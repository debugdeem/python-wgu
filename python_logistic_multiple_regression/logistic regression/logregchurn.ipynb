{
 "cells": [
  {
   "cell_type": "code",
   "execution_count": 1,
   "metadata": {},
   "outputs": [],
   "source": [
    "# import necessary packages\n",
    "import pandas as pd\n",
    "import seaborn as sns\n",
    "import matplotlib.pyplot as plt\n",
    "import numpy as np\n",
    "import sklearn\n",
    "from sklearn.preprocessing import LabelEncoder, LabelBinarizer\n",
    "import pylab\n",
    "from pylab import rcParams\n",
    "import scipy\n",
    "import statsmodels.api as sm\n",
    "from numpy.random import randn\n",
    "import statistics\n",
    "from scipy import stats\n",
    "import warnings\n",
    "warnings.filterwarnings('ignore')\n",
    "pd.options.display.float_format = '{:.5f}'.format\n",
    "pd.options.display.max_columns = None\n",
    "\n",
    "def plot_histogram(c):\n",
    "    churn_yes = df[df.Churn_Yes==1][c]\n",
    "    churn_no = df[df.Churn_Yes==0][c]\n",
    "    yes_mean = churn_yes.mean()\n",
    "    no_mean = churn_no.mean(); \n",
    "    fig,ax = plt.subplots(figsize=(6,6))\n",
    "    ax.hist([churn_yes,churn_no], bins=5, stacked=True)\n",
    "    ax.legend(['Churn_Yes','Churn_No'])\n",
    "    ymin, ymax = ax.get_ylim()\n",
    "    xmin, xmax = ax.get_xlim()\n",
    "    ax.axvline(yes_mean, color='blue', lw=2)\n",
    "    ax.axvline(no_mean, color='orangered', lw=2)\n",
    "    ax.text((xmax-xmin)/2,\n",
    "            (ymax-ymin)/2,\n",
    "            'Delta:\\n' + str(round(abs(yes_mean - no_mean),2)),\n",
    "            bbox={'facecolor':'white'})\n",
    "    plt.title('Histogram with target overlay by ' + str(c))\n",
    "    plt.xlabel(c); \n",
    "    plt.ylabel('# Churn')\n",
    "    plt.show()\n",
    "\n",
    "def plot_stacked(c):\n",
    "    df.groupby([c,target]).size().unstack().plot(kind='bar', stacked=True)\n",
    "\n",
    "df = pd.read_csv(r\"/Users/mamba/Downloads/churn_clean/churn_clean.csv\") \n",
    "target = 'Churn'"
   ]
  },
  {
   "cell_type": "code",
   "execution_count": 2,
   "metadata": {},
   "outputs": [
    {
     "name": "stdout",
     "output_type": "stream",
     "text": [
      "<class 'pandas.core.frame.DataFrame'>\n",
      "RangeIndex: 10000 entries, 0 to 9999\n",
      "Data columns (total 50 columns):\n",
      " #   Column                Non-Null Count  Dtype  \n",
      "---  ------                --------------  -----  \n",
      " 0   CaseOrder             10000 non-null  int64  \n",
      " 1   Customer_id           10000 non-null  object \n",
      " 2   Interaction           10000 non-null  object \n",
      " 3   UID                   10000 non-null  object \n",
      " 4   City                  10000 non-null  object \n",
      " 5   State                 10000 non-null  object \n",
      " 6   County                10000 non-null  object \n",
      " 7   Zip                   10000 non-null  int64  \n",
      " 8   Lat                   10000 non-null  float64\n",
      " 9   Lng                   10000 non-null  float64\n",
      " 10  Population            10000 non-null  int64  \n",
      " 11  Area                  10000 non-null  object \n",
      " 12  TimeZone              10000 non-null  object \n",
      " 13  Job                   10000 non-null  object \n",
      " 14  Children              10000 non-null  int64  \n",
      " 15  Age                   10000 non-null  int64  \n",
      " 16  Income                10000 non-null  float64\n",
      " 17  Marital               10000 non-null  object \n",
      " 18  Gender                10000 non-null  object \n",
      " 19  Churn                 10000 non-null  object \n",
      " 20  Outage_sec_perweek    10000 non-null  float64\n",
      " 21  Email                 10000 non-null  int64  \n",
      " 22  Contacts              10000 non-null  int64  \n",
      " 23  Yearly_equip_failure  10000 non-null  int64  \n",
      " 24  Techie                10000 non-null  object \n",
      " 25  Contract              10000 non-null  object \n",
      " 26  Port_modem            10000 non-null  object \n",
      " 27  Tablet                10000 non-null  object \n",
      " 28  InternetService       10000 non-null  object \n",
      " 29  Phone                 10000 non-null  object \n",
      " 30  Multiple              10000 non-null  object \n",
      " 31  OnlineSecurity        10000 non-null  object \n",
      " 32  OnlineBackup          10000 non-null  object \n",
      " 33  DeviceProtection      10000 non-null  object \n",
      " 34  TechSupport           10000 non-null  object \n",
      " 35  StreamingTV           10000 non-null  object \n",
      " 36  StreamingMovies       10000 non-null  object \n",
      " 37  PaperlessBilling      10000 non-null  object \n",
      " 38  PaymentMethod         10000 non-null  object \n",
      " 39  Tenure                10000 non-null  float64\n",
      " 40  MonthlyCharge         10000 non-null  float64\n",
      " 41  Bandwidth_GB_Year     10000 non-null  float64\n",
      " 42  Item1                 10000 non-null  int64  \n",
      " 43  Item2                 10000 non-null  int64  \n",
      " 44  Item3                 10000 non-null  int64  \n",
      " 45  Item4                 10000 non-null  int64  \n",
      " 46  Item5                 10000 non-null  int64  \n",
      " 47  Item6                 10000 non-null  int64  \n",
      " 48  Item7                 10000 non-null  int64  \n",
      " 49  Item8                 10000 non-null  int64  \n",
      "dtypes: float64(7), int64(16), object(27)\n",
      "memory usage: 3.8+ MB\n"
     ]
    },
    {
     "data": {
      "text/html": [
       "<div>\n",
       "<style scoped>\n",
       "    .dataframe tbody tr th:only-of-type {\n",
       "        vertical-align: middle;\n",
       "    }\n",
       "\n",
       "    .dataframe tbody tr th {\n",
       "        vertical-align: top;\n",
       "    }\n",
       "\n",
       "    .dataframe thead th {\n",
       "        text-align: right;\n",
       "    }\n",
       "</style>\n",
       "<table border=\"1\" class=\"dataframe\">\n",
       "  <thead>\n",
       "    <tr style=\"text-align: right;\">\n",
       "      <th></th>\n",
       "      <th>CaseOrder</th>\n",
       "      <th>Zip</th>\n",
       "      <th>Lat</th>\n",
       "      <th>Lng</th>\n",
       "      <th>Population</th>\n",
       "      <th>Children</th>\n",
       "      <th>Age</th>\n",
       "      <th>Income</th>\n",
       "      <th>Outage_sec_perweek</th>\n",
       "      <th>Email</th>\n",
       "      <th>Contacts</th>\n",
       "      <th>Yearly_equip_failure</th>\n",
       "      <th>Tenure</th>\n",
       "      <th>MonthlyCharge</th>\n",
       "      <th>Bandwidth_GB_Year</th>\n",
       "      <th>Item1</th>\n",
       "      <th>Item2</th>\n",
       "      <th>Item3</th>\n",
       "      <th>Item4</th>\n",
       "      <th>Item5</th>\n",
       "      <th>Item6</th>\n",
       "      <th>Item7</th>\n",
       "      <th>Item8</th>\n",
       "    </tr>\n",
       "  </thead>\n",
       "  <tbody>\n",
       "    <tr>\n",
       "      <th>count</th>\n",
       "      <td>10000.00000</td>\n",
       "      <td>10000.00000</td>\n",
       "      <td>10000.00000</td>\n",
       "      <td>10000.00000</td>\n",
       "      <td>10000.00000</td>\n",
       "      <td>10000.00000</td>\n",
       "      <td>10000.00000</td>\n",
       "      <td>10000.00000</td>\n",
       "      <td>10000.00000</td>\n",
       "      <td>10000.00000</td>\n",
       "      <td>10000.00000</td>\n",
       "      <td>10000.00000</td>\n",
       "      <td>10000.00000</td>\n",
       "      <td>10000.00000</td>\n",
       "      <td>10000.00000</td>\n",
       "      <td>10000.00000</td>\n",
       "      <td>10000.00000</td>\n",
       "      <td>10000.00000</td>\n",
       "      <td>10000.00000</td>\n",
       "      <td>10000.00000</td>\n",
       "      <td>10000.00000</td>\n",
       "      <td>10000.00000</td>\n",
       "      <td>10000.00000</td>\n",
       "    </tr>\n",
       "    <tr>\n",
       "      <th>mean</th>\n",
       "      <td>5000.50000</td>\n",
       "      <td>49153.31960</td>\n",
       "      <td>38.75757</td>\n",
       "      <td>-90.78254</td>\n",
       "      <td>9756.56240</td>\n",
       "      <td>2.08770</td>\n",
       "      <td>53.07840</td>\n",
       "      <td>39806.92677</td>\n",
       "      <td>10.00185</td>\n",
       "      <td>12.01600</td>\n",
       "      <td>0.99420</td>\n",
       "      <td>0.39800</td>\n",
       "      <td>34.52619</td>\n",
       "      <td>172.62482</td>\n",
       "      <td>3392.34155</td>\n",
       "      <td>3.49080</td>\n",
       "      <td>3.50510</td>\n",
       "      <td>3.48700</td>\n",
       "      <td>3.49750</td>\n",
       "      <td>3.49290</td>\n",
       "      <td>3.49730</td>\n",
       "      <td>3.50950</td>\n",
       "      <td>3.49560</td>\n",
       "    </tr>\n",
       "    <tr>\n",
       "      <th>std</th>\n",
       "      <td>2886.89568</td>\n",
       "      <td>27532.19611</td>\n",
       "      <td>5.43739</td>\n",
       "      <td>15.15614</td>\n",
       "      <td>14432.69867</td>\n",
       "      <td>2.14720</td>\n",
       "      <td>20.69888</td>\n",
       "      <td>28199.91670</td>\n",
       "      <td>2.97602</td>\n",
       "      <td>3.02590</td>\n",
       "      <td>0.98847</td>\n",
       "      <td>0.63595</td>\n",
       "      <td>26.44306</td>\n",
       "      <td>42.94309</td>\n",
       "      <td>2185.29485</td>\n",
       "      <td>1.03780</td>\n",
       "      <td>1.03464</td>\n",
       "      <td>1.02798</td>\n",
       "      <td>1.02582</td>\n",
       "      <td>1.02482</td>\n",
       "      <td>1.03359</td>\n",
       "      <td>1.02850</td>\n",
       "      <td>1.02863</td>\n",
       "    </tr>\n",
       "    <tr>\n",
       "      <th>min</th>\n",
       "      <td>1.00000</td>\n",
       "      <td>601.00000</td>\n",
       "      <td>17.96612</td>\n",
       "      <td>-171.68815</td>\n",
       "      <td>0.00000</td>\n",
       "      <td>0.00000</td>\n",
       "      <td>18.00000</td>\n",
       "      <td>348.67000</td>\n",
       "      <td>0.09975</td>\n",
       "      <td>1.00000</td>\n",
       "      <td>0.00000</td>\n",
       "      <td>0.00000</td>\n",
       "      <td>1.00026</td>\n",
       "      <td>79.97886</td>\n",
       "      <td>155.50671</td>\n",
       "      <td>1.00000</td>\n",
       "      <td>1.00000</td>\n",
       "      <td>1.00000</td>\n",
       "      <td>1.00000</td>\n",
       "      <td>1.00000</td>\n",
       "      <td>1.00000</td>\n",
       "      <td>1.00000</td>\n",
       "      <td>1.00000</td>\n",
       "    </tr>\n",
       "    <tr>\n",
       "      <th>25%</th>\n",
       "      <td>2500.75000</td>\n",
       "      <td>26292.50000</td>\n",
       "      <td>35.34183</td>\n",
       "      <td>-97.08281</td>\n",
       "      <td>738.00000</td>\n",
       "      <td>0.00000</td>\n",
       "      <td>35.00000</td>\n",
       "      <td>19224.71750</td>\n",
       "      <td>8.01821</td>\n",
       "      <td>10.00000</td>\n",
       "      <td>0.00000</td>\n",
       "      <td>0.00000</td>\n",
       "      <td>7.91769</td>\n",
       "      <td>139.97924</td>\n",
       "      <td>1236.47083</td>\n",
       "      <td>3.00000</td>\n",
       "      <td>3.00000</td>\n",
       "      <td>3.00000</td>\n",
       "      <td>3.00000</td>\n",
       "      <td>3.00000</td>\n",
       "      <td>3.00000</td>\n",
       "      <td>3.00000</td>\n",
       "      <td>3.00000</td>\n",
       "    </tr>\n",
       "    <tr>\n",
       "      <th>50%</th>\n",
       "      <td>5000.50000</td>\n",
       "      <td>48869.50000</td>\n",
       "      <td>39.39580</td>\n",
       "      <td>-87.91880</td>\n",
       "      <td>2910.50000</td>\n",
       "      <td>1.00000</td>\n",
       "      <td>53.00000</td>\n",
       "      <td>33170.60500</td>\n",
       "      <td>10.01856</td>\n",
       "      <td>12.00000</td>\n",
       "      <td>1.00000</td>\n",
       "      <td>0.00000</td>\n",
       "      <td>35.43051</td>\n",
       "      <td>167.48470</td>\n",
       "      <td>3279.53690</td>\n",
       "      <td>3.00000</td>\n",
       "      <td>4.00000</td>\n",
       "      <td>3.00000</td>\n",
       "      <td>3.00000</td>\n",
       "      <td>3.00000</td>\n",
       "      <td>3.00000</td>\n",
       "      <td>4.00000</td>\n",
       "      <td>3.00000</td>\n",
       "    </tr>\n",
       "    <tr>\n",
       "      <th>75%</th>\n",
       "      <td>7500.25000</td>\n",
       "      <td>71866.50000</td>\n",
       "      <td>42.10691</td>\n",
       "      <td>-80.08875</td>\n",
       "      <td>13168.00000</td>\n",
       "      <td>3.00000</td>\n",
       "      <td>71.00000</td>\n",
       "      <td>53246.17000</td>\n",
       "      <td>11.96949</td>\n",
       "      <td>14.00000</td>\n",
       "      <td>2.00000</td>\n",
       "      <td>1.00000</td>\n",
       "      <td>61.47980</td>\n",
       "      <td>200.73472</td>\n",
       "      <td>5586.14137</td>\n",
       "      <td>4.00000</td>\n",
       "      <td>4.00000</td>\n",
       "      <td>4.00000</td>\n",
       "      <td>4.00000</td>\n",
       "      <td>4.00000</td>\n",
       "      <td>4.00000</td>\n",
       "      <td>4.00000</td>\n",
       "      <td>4.00000</td>\n",
       "    </tr>\n",
       "    <tr>\n",
       "      <th>max</th>\n",
       "      <td>10000.00000</td>\n",
       "      <td>99929.00000</td>\n",
       "      <td>70.64066</td>\n",
       "      <td>-65.66785</td>\n",
       "      <td>111850.00000</td>\n",
       "      <td>10.00000</td>\n",
       "      <td>89.00000</td>\n",
       "      <td>258900.70000</td>\n",
       "      <td>21.20723</td>\n",
       "      <td>23.00000</td>\n",
       "      <td>7.00000</td>\n",
       "      <td>6.00000</td>\n",
       "      <td>71.99928</td>\n",
       "      <td>290.16042</td>\n",
       "      <td>7158.98153</td>\n",
       "      <td>7.00000</td>\n",
       "      <td>7.00000</td>\n",
       "      <td>8.00000</td>\n",
       "      <td>7.00000</td>\n",
       "      <td>7.00000</td>\n",
       "      <td>8.00000</td>\n",
       "      <td>7.00000</td>\n",
       "      <td>8.00000</td>\n",
       "    </tr>\n",
       "  </tbody>\n",
       "</table>\n",
       "</div>"
      ],
      "text/plain": [
       "        CaseOrder         Zip         Lat         Lng   Population  \\\n",
       "count 10000.00000 10000.00000 10000.00000 10000.00000  10000.00000   \n",
       "mean   5000.50000 49153.31960    38.75757   -90.78254   9756.56240   \n",
       "std    2886.89568 27532.19611     5.43739    15.15614  14432.69867   \n",
       "min       1.00000   601.00000    17.96612  -171.68815      0.00000   \n",
       "25%    2500.75000 26292.50000    35.34183   -97.08281    738.00000   \n",
       "50%    5000.50000 48869.50000    39.39580   -87.91880   2910.50000   \n",
       "75%    7500.25000 71866.50000    42.10691   -80.08875  13168.00000   \n",
       "max   10000.00000 99929.00000    70.64066   -65.66785 111850.00000   \n",
       "\n",
       "         Children         Age       Income  Outage_sec_perweek       Email  \\\n",
       "count 10000.00000 10000.00000  10000.00000         10000.00000 10000.00000   \n",
       "mean      2.08770    53.07840  39806.92677            10.00185    12.01600   \n",
       "std       2.14720    20.69888  28199.91670             2.97602     3.02590   \n",
       "min       0.00000    18.00000    348.67000             0.09975     1.00000   \n",
       "25%       0.00000    35.00000  19224.71750             8.01821    10.00000   \n",
       "50%       1.00000    53.00000  33170.60500            10.01856    12.00000   \n",
       "75%       3.00000    71.00000  53246.17000            11.96949    14.00000   \n",
       "max      10.00000    89.00000 258900.70000            21.20723    23.00000   \n",
       "\n",
       "         Contacts  Yearly_equip_failure      Tenure  MonthlyCharge  \\\n",
       "count 10000.00000           10000.00000 10000.00000    10000.00000   \n",
       "mean      0.99420               0.39800    34.52619      172.62482   \n",
       "std       0.98847               0.63595    26.44306       42.94309   \n",
       "min       0.00000               0.00000     1.00026       79.97886   \n",
       "25%       0.00000               0.00000     7.91769      139.97924   \n",
       "50%       1.00000               0.00000    35.43051      167.48470   \n",
       "75%       2.00000               1.00000    61.47980      200.73472   \n",
       "max       7.00000               6.00000    71.99928      290.16042   \n",
       "\n",
       "       Bandwidth_GB_Year       Item1       Item2       Item3       Item4  \\\n",
       "count        10000.00000 10000.00000 10000.00000 10000.00000 10000.00000   \n",
       "mean          3392.34155     3.49080     3.50510     3.48700     3.49750   \n",
       "std           2185.29485     1.03780     1.03464     1.02798     1.02582   \n",
       "min            155.50671     1.00000     1.00000     1.00000     1.00000   \n",
       "25%           1236.47083     3.00000     3.00000     3.00000     3.00000   \n",
       "50%           3279.53690     3.00000     4.00000     3.00000     3.00000   \n",
       "75%           5586.14137     4.00000     4.00000     4.00000     4.00000   \n",
       "max           7158.98153     7.00000     7.00000     8.00000     7.00000   \n",
       "\n",
       "            Item5       Item6       Item7       Item8  \n",
       "count 10000.00000 10000.00000 10000.00000 10000.00000  \n",
       "mean      3.49290     3.49730     3.50950     3.49560  \n",
       "std       1.02482     1.03359     1.02850     1.02863  \n",
       "min       1.00000     1.00000     1.00000     1.00000  \n",
       "25%       3.00000     3.00000     3.00000     3.00000  \n",
       "50%       3.00000     3.00000     4.00000     3.00000  \n",
       "75%       4.00000     4.00000     4.00000     4.00000  \n",
       "max       7.00000     8.00000     7.00000     8.00000  "
      ]
     },
     "execution_count": 2,
     "metadata": {},
     "output_type": "execute_result"
    }
   ],
   "source": [
    "# understand information about the dataframe\n",
    "df.info()\n",
    "df.describe()"
   ]
  },
  {
   "cell_type": "code",
   "execution_count": 3,
   "metadata": {},
   "outputs": [
    {
     "name": "stdout",
     "output_type": "stream",
     "text": [
      "<class 'pandas.core.frame.DataFrame'>\n",
      "RangeIndex: 10000 entries, 0 to 9999\n",
      "Data columns (total 50 columns):\n",
      " #   Column                Non-Null Count  Dtype  \n",
      "---  ------                --------------  -----  \n",
      " 0   CaseOrder             10000 non-null  int64  \n",
      " 1   Customer_id           10000 non-null  object \n",
      " 2   Interaction           10000 non-null  object \n",
      " 3   UID                   10000 non-null  object \n",
      " 4   City                  10000 non-null  object \n",
      " 5   State                 10000 non-null  object \n",
      " 6   County                10000 non-null  object \n",
      " 7   Zip                   10000 non-null  int64  \n",
      " 8   Lat                   10000 non-null  float64\n",
      " 9   Lng                   10000 non-null  float64\n",
      " 10  Population            10000 non-null  int64  \n",
      " 11  Area                  10000 non-null  object \n",
      " 12  TimeZone              10000 non-null  object \n",
      " 13  Job                   10000 non-null  object \n",
      " 14  Children              10000 non-null  int64  \n",
      " 15  Age                   10000 non-null  int64  \n",
      " 16  Income                10000 non-null  float64\n",
      " 17  Marital               10000 non-null  object \n",
      " 18  Gender                10000 non-null  object \n",
      " 19  Churn                 10000 non-null  object \n",
      " 20  Outage_sec_perweek    10000 non-null  float64\n",
      " 21  Email                 10000 non-null  int64  \n",
      " 22  Contacts              10000 non-null  int64  \n",
      " 23  Yearly_equip_failure  10000 non-null  int64  \n",
      " 24  Techie                10000 non-null  object \n",
      " 25  Contract              10000 non-null  object \n",
      " 26  Port_modem            10000 non-null  object \n",
      " 27  Tablet                10000 non-null  object \n",
      " 28  InternetService       10000 non-null  object \n",
      " 29  Phone                 10000 non-null  object \n",
      " 30  Multiple              10000 non-null  object \n",
      " 31  OnlineSecurity        10000 non-null  object \n",
      " 32  OnlineBackup          10000 non-null  object \n",
      " 33  DeviceProtection      10000 non-null  object \n",
      " 34  TechSupport           10000 non-null  object \n",
      " 35  StreamingTV           10000 non-null  object \n",
      " 36  StreamingMovies       10000 non-null  object \n",
      " 37  PaperlessBilling      10000 non-null  object \n",
      " 38  PaymentMethod         10000 non-null  object \n",
      " 39  Tenure                10000 non-null  float64\n",
      " 40  MonthlyCharge         10000 non-null  float64\n",
      " 41  Bandwidth_GB_Year     10000 non-null  float64\n",
      " 42  Timely Response       10000 non-null  int64  \n",
      " 43  Fixes                 10000 non-null  int64  \n",
      " 44  Replacement           10000 non-null  int64  \n",
      " 45  Reliability           10000 non-null  int64  \n",
      " 46  Options               10000 non-null  int64  \n",
      " 47  Respectfulness        10000 non-null  int64  \n",
      " 48  Courteous             10000 non-null  int64  \n",
      " 49  Listening             10000 non-null  int64  \n",
      "dtypes: float64(7), int64(16), object(27)\n",
      "memory usage: 3.8+ MB\n"
     ]
    }
   ],
   "source": [
    "# rename any columns to assist with understanding\n",
    "df.rename(columns= {\n",
    "    'Item1': 'Timely Response',\n",
    "    'Item2': 'Fixes',\n",
    "    'Item3': 'Replacement',\n",
    "    'Item4': 'Reliability',\n",
    "    'Item5': 'Options',\n",
    "    'Item6': 'Respectfulness',\n",
    "    'Item7': 'Courteous',\n",
    "    'Item8': 'Listening'},\n",
    "    inplace=True)\n",
    "df.info()\n",
    "#df.describe()\n",
    "#df"
   ]
  },
  {
   "cell_type": "code",
   "execution_count": 4,
   "metadata": {},
   "outputs": [
    {
     "data": {
      "text/plain": [
       "Index(['CaseOrder', 'Customer_id', 'Interaction', 'UID', 'City', 'State',\n",
       "       'County', 'Zip', 'Lat', 'Lng', 'Population', 'Area', 'TimeZone', 'Job',\n",
       "       'Children', 'Age', 'Income', 'Marital', 'Gender', 'Churn',\n",
       "       'Outage_sec_perweek', 'Email', 'Contacts', 'Yearly_equip_failure',\n",
       "       'Techie', 'Contract', 'Port_modem', 'Tablet', 'InternetService',\n",
       "       'Phone', 'Multiple', 'OnlineSecurity', 'OnlineBackup',\n",
       "       'DeviceProtection', 'TechSupport', 'StreamingTV', 'StreamingMovies',\n",
       "       'PaperlessBilling', 'PaymentMethod', 'Tenure', 'MonthlyCharge',\n",
       "       'Bandwidth_GB_Year', 'Timely Response', 'Fixes', 'Replacement',\n",
       "       'Reliability', 'Options', 'Respectfulness', 'Courteous', 'Listening'],\n",
       "      dtype='object')"
      ]
     },
     "execution_count": 4,
     "metadata": {},
     "output_type": "execute_result"
    }
   ],
   "source": [
    "# create a dataframe for the columns for further analysis\n",
    "df_columns = df.columns\n",
    "df_columns"
   ]
  },
  {
   "cell_type": "code",
   "execution_count": 5,
   "metadata": {},
   "outputs": [
    {
     "data": {
      "text/plain": [
       "(10000, 29)"
      ]
     },
     "execution_count": 5,
     "metadata": {},
     "output_type": "execute_result"
    }
   ],
   "source": [
    "# remove columns that will not contribute to the correlation analysis of the target variable\n",
    "df = df.drop(columns=['CaseOrder', 'Customer_id', 'Interaction', 'UID', 'City', \n",
    "'State', 'County', 'Zip', 'Lat', 'Lng', 'Population', 'TimeZone', 'Job',\n",
    "'Timely Response', 'Fixes', 'Replacement', 'Reliability',\n",
    "'Options', 'Respectfulness', 'Courteous', 'Listening'])\n",
    "\n",
    "df.shape"
   ]
  },
  {
   "cell_type": "code",
   "execution_count": 6,
   "metadata": {},
   "outputs": [
    {
     "name": "stdout",
     "output_type": "stream",
     "text": [
      "<class 'pandas.core.series.Series'>\n",
      "Index: 29 entries, Area to Bandwidth_GB_Year\n",
      "Series name: None\n",
      "Non-Null Count  Dtype\n",
      "--------------  -----\n",
      "29 non-null     int64\n",
      "dtypes: int64(1)\n",
      "memory usage: 464.0+ bytes\n",
      "None\n",
      "<class 'pandas.core.frame.DataFrame'>\n",
      "RangeIndex: 10000 entries, 0 to 9999\n",
      "Empty DataFrameNone\n",
      "False\n",
      "False\n"
     ]
    }
   ],
   "source": [
    "# explore missing data, nulls, and duplicates\n",
    "null_values = df.isnull().sum()\n",
    "print(null_values.info())\n",
    "\n",
    "missing_values = df[df.columns[df.isna().any()]].columns\n",
    "df_missing_values = df[missing_values]\n",
    "print(df_missing_values.info())\n",
    "\n",
    "df[df.duplicated()]\n",
    "print(df.columns.duplicated().any())\n",
    "print(df.duplicated().any())"
   ]
  },
  {
   "cell_type": "code",
   "execution_count": 7,
   "metadata": {},
   "outputs": [
    {
     "name": "stdout",
     "output_type": "stream",
     "text": [
      "\n",
      "Area. is categorical: ['Urban' 'Suburban' 'Rural'].\n",
      "\n",
      "Children. is numerical:\n",
      "\n",
      "Age. is numerical:\n",
      "\n",
      "Income. is numerical:\n",
      "\n",
      "Marital. is categorical: ['Widowed' 'Married' 'Separated' 'Never Married' 'Divorced'].\n",
      "\n",
      "Gender. is categorical: ['Male' 'Female' 'Nonbinary'].\n",
      "\n",
      "Outage_sec_perweek. is numerical:\n",
      "\n",
      "Email. is numerical:\n",
      "\n",
      "Contacts. is numerical:\n",
      "\n",
      "Yearly_equip_failure. is numerical:\n",
      "\n",
      "Techie. is categorical: ['No' 'Yes'].\n",
      "\n",
      "Contract. is categorical: ['One year' 'Month-to-month' 'Two Year'].\n",
      "\n",
      "Port_modem. is categorical: ['Yes' 'No'].\n",
      "\n",
      "Tablet. is categorical: ['Yes' 'No'].\n",
      "\n",
      "InternetService. is categorical: ['Fiber Optic' 'DSL' 'None'].\n",
      "\n",
      "Phone. is categorical: ['Yes' 'No'].\n",
      "\n",
      "Multiple. is categorical: ['No' 'Yes'].\n",
      "\n",
      "OnlineSecurity. is categorical: ['Yes' 'No'].\n",
      "\n",
      "OnlineBackup. is categorical: ['Yes' 'No'].\n",
      "\n",
      "DeviceProtection. is categorical: ['No' 'Yes'].\n",
      "\n",
      "TechSupport. is categorical: ['No' 'Yes'].\n",
      "\n",
      "StreamingTV. is categorical: ['No' 'Yes'].\n",
      "\n",
      "StreamingMovies. is categorical: ['Yes' 'No'].\n",
      "\n",
      "PaperlessBilling. is categorical: ['Yes' 'No'].\n",
      "\n",
      "PaymentMethod. is categorical: ['Credit Card (automatic)' 'Bank Transfer(automatic)' 'Mailed Check'\n",
      " 'Electronic Check'].\n",
      "\n",
      "Tenure. is numerical:\n",
      "\n",
      "MonthlyCharge. is numerical:\n",
      "\n",
      "Bandwidth_GB_Year. is numerical:\n"
     ]
    }
   ],
   "source": [
    "# exploring the variable types and their ranges\n",
    "for a in df.loc[:, df.columns != target]:\n",
    "    if df.dtypes[a] == \"object\":\n",
    "        print('\\n{}. is categorical: {}.'.format(a,df[a].unique()))\n",
    "    else:\n",
    "        print('\\n{}. is numerical:'.format(a ))\n"
   ]
  },
  {
   "cell_type": "code",
   "execution_count": 8,
   "metadata": {},
   "outputs": [
    {
     "name": "stdout",
     "output_type": "stream",
     "text": [
      "\n",
      "Churn is categorical: ['No' 'Yes'].\n",
      "No     7350\n",
      "Yes    2650\n",
      "Name: Churn, dtype: int64\n"
     ]
    }
   ],
   "source": [
    "# exploring Churn\n",
    "\n",
    "for a in df.loc[:, df.columns == target]:\n",
    "    if df.dtypes[a] == \"object\":\n",
    "        print('\\n{} is categorical: {}.'.format(a,df[a].unique()))\n",
    "    else:\n",
    "        print('\\n{} is numerical:'.format(a ))\n",
    "print(df.Churn.value_counts())"
   ]
  },
  {
   "cell_type": "code",
   "execution_count": 9,
   "metadata": {},
   "outputs": [
    {
     "name": "stdout",
     "output_type": "stream",
     "text": [
      "['Not_Married' 'Married']\n",
      "['Auto' 'Check']\n"
     ]
    }
   ],
   "source": [
    "# Examining the variables, we see a few that have excessive categories. For example\n",
    "# there are 4 ways to pay and there are 4 categories for marital status.\n",
    "\n",
    "df['Marital']=np.where(df['Marital'] =='Widowed', 'Not_Married',df['Marital'])\n",
    "df['Marital']=np.where(df['Marital'] =='Separated', 'Not_Married',df['Marital'])\n",
    "df['Marital']=np.where(df['Marital'] =='Never Married', 'Not_Married',df['Marital'])\n",
    "df['Marital']=np.where(df['Marital'] =='Divorced', 'Not_Married',df['Marital'])\n",
    "print(df['Marital'].unique())\n",
    "\n",
    "df['PaymentMethod']=np.where(df['PaymentMethod'] =='Credit Card (automatic)', 'Auto',df['PaymentMethod'])\n",
    "df['PaymentMethod']=np.where(df['PaymentMethod'] =='Bank Transfer(automatic)', 'Auto',df['PaymentMethod'])\n",
    "df['PaymentMethod']=np.where(df['PaymentMethod'] =='Mailed Check', 'Check',df['PaymentMethod'])\n",
    "df['PaymentMethod']=np.where(df['PaymentMethod'] =='Electronic Check', 'Check',df['PaymentMethod'])\n",
    "print(df['PaymentMethod'].unique())\n",
    "\n",
    "plt.show()"
   ]
  },
  {
   "cell_type": "code",
   "execution_count": 10,
   "metadata": {},
   "outputs": [
    {
     "name": "stdout",
     "output_type": "stream",
     "text": [
      "Index(['Children', 'Age', 'Income', 'Outage_sec_perweek', 'Email', 'Contacts',\n",
      "       'Yearly_equip_failure', 'Tenure', 'MonthlyCharge', 'Bandwidth_GB_Year'],\n",
      "      dtype='object')\n",
      "(10,)\n",
      "Index(['Area', 'Marital', 'Gender', 'Churn', 'Techie', 'Contract',\n",
      "       'Port_modem', 'Tablet', 'InternetService', 'Phone', 'Multiple',\n",
      "       'OnlineSecurity', 'OnlineBackup', 'DeviceProtection', 'TechSupport',\n",
      "       'StreamingTV', 'StreamingMovies', 'PaperlessBilling', 'PaymentMethod'],\n",
      "      dtype='object')\n",
      "(19,)\n"
     ]
    }
   ],
   "source": [
    "# create a dataframe for numerical variables and categorical variables\n",
    "num_vars = df.select_dtypes(include=\"number\").columns\n",
    "print(num_vars)\n",
    "print(num_vars.shape)\n",
    "\n",
    "cat_vars = df.select_dtypes(include=\"object\").columns\n",
    "print(cat_vars)\n",
    "print(cat_vars.shape)"
   ]
  },
  {
   "cell_type": "code",
   "execution_count": 11,
   "metadata": {},
   "outputs": [
    {
     "data": {
      "image/png": "[encoded data removed]",
      "text/plain": [
       "<Figure size 432x288 with 1 Axes>"
      ]
     },
     "metadata": {
      "needs_background": "light"
     },
     "output_type": "display_data"
    }
   ],
   "source": [
    "# we use sns countplot to display the distribution\n",
    "# of the target variable.\n",
    "\n",
    "sns.countplot(x=target, data=df, palette='hls')\n",
    "plt.savefig('countplot_logreg.jpg')\n",
    "plt.show()"
   ]
  },
  {
   "cell_type": "code",
   "execution_count": 12,
   "metadata": {},
   "outputs": [
    {
     "data": {
      "text/html": [
       "<div>\n",
       "<style scoped>\n",
       "    .dataframe tbody tr th:only-of-type {\n",
       "        vertical-align: middle;\n",
       "    }\n",
       "\n",
       "    .dataframe tbody tr th {\n",
       "        vertical-align: top;\n",
       "    }\n",
       "\n",
       "    .dataframe thead th {\n",
       "        text-align: right;\n",
       "    }\n",
       "</style>\n",
       "<table border=\"1\" class=\"dataframe\">\n",
       "  <thead>\n",
       "    <tr style=\"text-align: right;\">\n",
       "      <th>Churn</th>\n",
       "      <th>No</th>\n",
       "      <th>Yes</th>\n",
       "    </tr>\n",
       "  </thead>\n",
       "  <tbody>\n",
       "    <tr>\n",
       "      <th>Children</th>\n",
       "      <td>2.09000</td>\n",
       "      <td>2.07000</td>\n",
       "    </tr>\n",
       "    <tr>\n",
       "      <th>Age</th>\n",
       "      <td>53.01000</td>\n",
       "      <td>53.27000</td>\n",
       "    </tr>\n",
       "    <tr>\n",
       "      <th>Income</th>\n",
       "      <td>39706.40000</td>\n",
       "      <td>40085.76000</td>\n",
       "    </tr>\n",
       "    <tr>\n",
       "      <th>Outage_sec_perweek</th>\n",
       "      <td>10.00000</td>\n",
       "      <td>10.00000</td>\n",
       "    </tr>\n",
       "    <tr>\n",
       "      <th>Email</th>\n",
       "      <td>11.99000</td>\n",
       "      <td>12.08000</td>\n",
       "    </tr>\n",
       "    <tr>\n",
       "      <th>Contacts</th>\n",
       "      <td>0.99000</td>\n",
       "      <td>1.01000</td>\n",
       "    </tr>\n",
       "    <tr>\n",
       "      <th>Yearly_equip_failure</th>\n",
       "      <td>0.40000</td>\n",
       "      <td>0.38000</td>\n",
       "    </tr>\n",
       "    <tr>\n",
       "      <th>Tenure</th>\n",
       "      <td>42.23000</td>\n",
       "      <td>13.15000</td>\n",
       "    </tr>\n",
       "    <tr>\n",
       "      <th>MonthlyCharge</th>\n",
       "      <td>163.01000</td>\n",
       "      <td>199.30000</td>\n",
       "    </tr>\n",
       "    <tr>\n",
       "      <th>Bandwidth_GB_Year</th>\n",
       "      <td>3971.86000</td>\n",
       "      <td>1785.01000</td>\n",
       "    </tr>\n",
       "  </tbody>\n",
       "</table>\n",
       "</div>"
      ],
      "text/plain": [
       "Churn                         No         Yes\n",
       "Children                 2.09000     2.07000\n",
       "Age                     53.01000    53.27000\n",
       "Income               39706.40000 40085.76000\n",
       "Outage_sec_perweek      10.00000    10.00000\n",
       "Email                   11.99000    12.08000\n",
       "Contacts                 0.99000     1.01000\n",
       "Yearly_equip_failure     0.40000     0.38000\n",
       "Tenure                  42.23000    13.15000\n",
       "MonthlyCharge          163.01000   199.30000\n",
       "Bandwidth_GB_Year     3971.86000  1785.01000"
      ]
     },
     "execution_count": 12,
     "metadata": {},
     "output_type": "execute_result"
    }
   ],
   "source": [
    "# we can also groupby the numerical \n",
    "# target variables in a mean analysis \n",
    "# against the target variable, Churn.\n",
    "\n",
    "df.groupby(target).mean().round(2).T"
   ]
  },
  {
   "cell_type": "code",
   "execution_count": 13,
   "metadata": {},
   "outputs": [
    {
     "data": {
      "image/png": "[encoded data removed]",
      "text/plain": [
       "<Figure size 720x1440 with 18 Axes>"
      ]
     },
     "metadata": {
      "needs_background": "light"
     },
     "output_type": "display_data"
    }
   ],
   "source": [
    "# to analyze the categorical data, we can plot a countplot \n",
    "# of each the variables.\n",
    "\n",
    "fig = plt.figure(figsize=(10,20))\n",
    "for d, col in enumerate(cat_vars):\n",
    "    if col != target:\n",
    "        plt.subplot(10, 3, d+1)\n",
    "        ax = sns.countplot(y=col, data=df)\n",
    "        fig.tight_layout(h_pad=4, w_pad=4)\n",
    "plt.title('Categorical Variables')\n",
    "plt.savefig('cat_vars_logreg.jpg')\n",
    "plt.show()"
   ]
  },
  {
   "cell_type": "code",
   "execution_count": 14,
   "metadata": {},
   "outputs": [
    {
     "name": "stdout",
     "output_type": "stream",
     "text": [
      "\n",
      "\n",
      "=====================\n",
      "\tAREA\n",
      "============================\n",
      "Area                       Rural    Suburban       Urban\n",
      "Children                 2.11000     2.08000     2.07000\n",
      "Age                     52.71000    53.23000    53.30000\n",
      "Income               39667.13000 39909.15000 39843.92000\n",
      "Outage_sec_perweek       9.99000    10.03000     9.99000\n",
      "Email                   12.05000    11.98000    12.02000\n",
      "Contacts                 1.00000     0.99000     1.00000\n",
      "Yearly_equip_failure     0.40000     0.40000     0.39000\n",
      "Tenure                  35.14000    34.37000    34.07000\n",
      "MonthlyCharge          172.49000   172.49000   172.90000\n",
      "Bandwidth_GB_Year     3442.81000  3380.28000  3354.00000\n",
      "\n",
      "\n",
      "=====================\n",
      "\tMARITAL\n",
      "============================\n",
      "Marital                  Married  Not_Married\n",
      "Children                 2.11000      2.08000\n",
      "Age                     52.84000     53.13000\n",
      "Income               40330.36000  39683.27000\n",
      "Outage_sec_perweek      10.10000      9.98000\n",
      "Email                   12.07000     12.00000\n",
      "Contacts                 1.00000      0.99000\n",
      "Yearly_equip_failure     0.40000      0.40000\n",
      "Tenure                  34.81000     34.46000\n",
      "MonthlyCharge          172.06000    172.76000\n",
      "Bandwidth_GB_Year     3415.47000   3386.88000\n",
      "\n",
      "\n",
      "=====================\n",
      "\tGENDER\n",
      "============================\n",
      "Gender                    Female        Male   Nonbinary\n",
      "Children                 2.08000     2.10000     2.12000\n",
      "Age                     53.09000    53.19000    50.51000\n",
      "Income               40422.68000 39098.45000 40962.16000\n",
      "Outage_sec_perweek       9.97000    10.04000     9.96000\n",
      "Email                   11.98000    12.06000    11.85000\n",
      "Contacts                 0.99000     1.00000     1.00000\n",
      "Yearly_equip_failure     0.39000     0.40000     0.50000\n",
      "Tenure                  34.90000    34.22000    32.65000\n",
      "MonthlyCharge          172.22000   173.03000   173.13000\n",
      "Bandwidth_GB_Year     3386.78000  3407.81000  3195.76000\n",
      "\n",
      "\n",
      "=====================\n",
      "\tTECHIE\n",
      "============================\n",
      "Techie                        No         Yes\n",
      "Children                 2.09000     2.05000\n",
      "Age                     53.15000    52.73000\n",
      "Income               39738.00000 40148.54000\n",
      "Outage_sec_perweek      10.01000     9.96000\n",
      "Email                   12.04000    11.92000\n",
      "Contacts                 0.99000     1.01000\n",
      "Yearly_equip_failure     0.40000     0.39000\n",
      "Tenure                  34.65000    33.94000\n",
      "MonthlyCharge          172.49000   173.31000\n",
      "Bandwidth_GB_Year     3401.62000  3346.35000\n",
      "\n",
      "\n",
      "=====================\n",
      "\tCONTRACT\n",
      "============================\n",
      "Contract              Month-to-month    One year    Two Year\n",
      "Children                     2.04000     2.13000     2.15000\n",
      "Age                         53.28000    52.87000    52.81000\n",
      "Income                   39848.09000 39928.54000 39610.28000\n",
      "Outage_sec_perweek           9.98000     9.97000    10.08000\n",
      "Email                       12.04000    11.94000    12.04000\n",
      "Contacts                     0.99000     0.99000     1.01000\n",
      "Yearly_equip_failure         0.40000     0.41000     0.39000\n",
      "Tenure                      34.24000    34.21000    35.43000\n",
      "MonthlyCharge              172.14000   173.67000   172.80000\n",
      "Bandwidth_GB_Year         3363.43000  3375.53000  3471.40000\n",
      "\n",
      "\n",
      "=====================\n",
      "\tPORT_MODEM\n",
      "============================\n",
      "Port_modem                    No         Yes\n",
      "Children                 2.06000     2.11000\n",
      "Age                     52.96000    53.21000\n",
      "Income               40215.46000 39370.33000\n",
      "Outage_sec_perweek       9.98000    10.02000\n",
      "Email                   11.97000    12.06000\n",
      "Contacts                 1.00000     0.99000\n",
      "Yearly_equip_failure     0.39000     0.40000\n",
      "Tenure                  34.30000    34.77000\n",
      "MonthlyCharge          172.62000   172.63000\n",
      "Bandwidth_GB_Year     3373.98000  3411.97000\n",
      "\n",
      "\n",
      "=====================\n",
      "\tTABLET\n",
      "============================\n",
      "Tablet                        No         Yes\n",
      "Children                 2.09000     2.09000\n",
      "Age                     53.14000    52.94000\n",
      "Income               39696.41000 40065.90000\n",
      "Outage_sec_perweek       9.99000    10.03000\n",
      "Email                   12.03000    11.98000\n",
      "Contacts                 1.00000     0.98000\n",
      "Yearly_equip_failure     0.40000     0.40000\n",
      "Tenure                  34.52000    34.55000\n",
      "MonthlyCharge          172.42000   173.10000\n",
      "Bandwidth_GB_Year     3389.30000  3399.46000\n",
      "\n",
      "\n",
      "=====================\n",
      "\tINTERNETSERVICE\n",
      "============================\n",
      "InternetService              DSL  Fiber Optic        None\n",
      "Children                 2.08000      2.08000     2.12000\n",
      "Age                     52.95000     53.11000    53.23000\n",
      "Income               40535.84000  39267.31000 39738.54000\n",
      "Outage_sec_perweek       9.96000     10.02000    10.05000\n",
      "Email                   12.01000     12.03000    12.01000\n",
      "Contacts                 1.01000      1.00000     0.96000\n",
      "Yearly_equip_failure     0.40000      0.39000     0.40000\n",
      "Tenure                  34.99000     34.41000    34.01000\n",
      "MonthlyCharge          167.06000    186.49000   152.98000\n",
      "Bandwidth_GB_Year     3701.97000   3239.85000  3204.42000\n",
      "\n",
      "\n",
      "=====================\n",
      "\tPHONE\n",
      "============================\n",
      "Phone                         No         Yes\n",
      "Children                 2.10000     2.09000\n",
      "Age                     52.46000    53.14000\n",
      "Income               39954.32000 39791.76000\n",
      "Outage_sec_perweek      10.10000     9.99000\n",
      "Email                   12.08000    12.01000\n",
      "Contacts                 0.98000     1.00000\n",
      "Yearly_equip_failure     0.41000     0.40000\n",
      "Tenure                  34.26000    34.55000\n",
      "MonthlyCharge          175.17000   172.36000\n",
      "Bandwidth_GB_Year     3383.27000  3393.27000\n",
      "\n",
      "\n",
      "=====================\n",
      "\tMULTIPLE\n",
      "============================\n",
      "Multiple                      No         Yes\n",
      "Children                 2.13000     2.04000\n",
      "Age                     53.17000    52.97000\n",
      "Income               39812.52000 39800.39000\n",
      "Outage_sec_perweek       9.97000    10.04000\n",
      "Email                   12.02000    12.01000\n",
      "Contacts                 1.01000     0.98000\n",
      "Yearly_equip_failure     0.40000     0.40000\n",
      "Tenure                  34.78000    34.23000\n",
      "MonthlyCharge          157.30000   190.55000\n",
      "Bandwidth_GB_Year     3378.56000  3408.47000\n",
      "\n",
      "\n",
      "=====================\n",
      "\tONLINESECURITY\n",
      "============================\n",
      "OnlineSecurity                No         Yes\n",
      "Children                 2.08000     2.11000\n",
      "Age                     53.25000    52.77000\n",
      "Income               40025.41000 39414.45000\n",
      "Outage_sec_perweek      10.01000     9.99000\n",
      "Email                   12.07000    11.91000\n",
      "Contacts                 0.99000     1.01000\n",
      "Yearly_equip_failure     0.41000     0.38000\n",
      "Tenure                  34.48000    34.62000\n",
      "MonthlyCharge          171.10000   175.37000\n",
      "Bandwidth_GB_Year     3358.09000  3453.86000\n",
      "\n",
      "\n",
      "=====================\n",
      "\tONLINEBACKUP\n",
      "============================\n",
      "OnlineBackup                  No         Yes\n",
      "Children                 2.09000     2.09000\n",
      "Age                     53.02000    53.15000\n",
      "Income               39959.49000 39620.91000\n",
      "Outage_sec_perweek      10.00000    10.00000\n",
      "Email                   12.05000    11.98000\n",
      "Contacts                 0.98000     1.01000\n",
      "Yearly_equip_failure     0.40000     0.39000\n",
      "Tenure                  34.03000    35.13000\n",
      "MonthlyCharge          162.54000   184.93000\n",
      "Bandwidth_GB_Year     3309.74000  3493.05000\n",
      "\n",
      "\n",
      "=====================\n",
      "\tDEVICEPROTECTION\n",
      "============================\n",
      "DeviceProtection              No         Yes\n",
      "Children                 2.08000     2.10000\n",
      "Age                     52.81000    53.42000\n",
      "Income               39456.16000 40255.90000\n",
      "Outage_sec_perweek       9.94000    10.08000\n",
      "Email                   12.01000    12.02000\n",
      "Contacts                 0.99000     0.99000\n",
      "Yearly_equip_failure     0.40000     0.39000\n",
      "Tenure                  35.18000    33.69000\n",
      "MonthlyCharge          166.45000   180.53000\n",
      "Bandwidth_GB_Year     3407.52000  3372.92000\n",
      "\n",
      "\n",
      "=====================\n",
      "\tTECHSUPPORT\n",
      "============================\n",
      "TechSupport                   No         Yes\n",
      "Children                 2.09000     2.09000\n",
      "Age                     52.80000    53.54000\n",
      "Income               39613.95000 40128.55000\n",
      "Outage_sec_perweek      10.03000     9.95000\n",
      "Email                   11.96000    12.10000\n",
      "Contacts                 1.00000     0.98000\n",
      "Yearly_equip_failure     0.40000     0.40000\n",
      "Tenure                  34.55000    34.48000\n",
      "MonthlyCharge          168.62000   179.29000\n",
      "Bandwidth_GB_Year     3392.14000  3392.68000\n",
      "\n",
      "\n",
      "=====================\n",
      "\tSTREAMINGTV\n",
      "============================\n",
      "StreamingTV                   No         Yes\n",
      "Children                 2.10000     2.07000\n",
      "Age                     53.08000    53.07000\n",
      "Income               39899.33000 39711.86000\n",
      "Outage_sec_perweek       9.98000    10.03000\n",
      "Email                   12.00000    12.03000\n",
      "Contacts                 0.99000     0.99000\n",
      "Yearly_equip_failure     0.40000     0.40000\n",
      "Tenure                  34.46000    34.59000\n",
      "MonthlyCharge          152.21000   193.63000\n",
      "Bandwidth_GB_Year     3275.33000  3512.73000\n",
      "\n",
      "\n",
      "=====================\n",
      "\tSTREAMINGMOVIES\n",
      "============================\n",
      "StreamingMovies               No         Yes\n",
      "Children                 2.08000     2.10000\n",
      "Age                     52.87000    53.29000\n",
      "Income               39867.22000 39743.92000\n",
      "Outage_sec_perweek       9.95000    10.06000\n",
      "Email                   12.01000    12.02000\n",
      "Contacts                 0.98000     1.01000\n",
      "Yearly_equip_failure     0.40000     0.40000\n",
      "Tenure                  34.59000    34.46000\n",
      "MonthlyCharge          147.08000   199.32000\n",
      "Bandwidth_GB_Year     3294.87000  3494.20000\n",
      "\n",
      "\n",
      "=====================\n",
      "\tPAPERLESSBILLING\n",
      "============================\n",
      "PaperlessBilling              No         Yes\n",
      "Children                 2.07000     2.10000\n",
      "Age                     53.02000    53.12000\n",
      "Income               40212.98000 39522.65000\n",
      "Outage_sec_perweek      10.04000     9.97000\n",
      "Email                   12.06000    11.98000\n",
      "Contacts                 1.00000     0.99000\n",
      "Yearly_equip_failure     0.39000     0.41000\n",
      "Tenure                  34.55000    34.51000\n",
      "MonthlyCharge          172.56000   172.67000\n",
      "Bandwidth_GB_Year     3398.79000  3387.82000\n",
      "\n",
      "\n",
      "=====================\n",
      "\tPAYMENTMETHOD\n",
      "============================\n",
      "PaymentMethod               Auto       Check\n",
      "Children                 2.09000     2.09000\n",
      "Age                     53.48000    52.77000\n",
      "Income               39296.10000 40194.18000\n",
      "Outage_sec_perweek      10.01000     9.99000\n",
      "Email                   12.04000    12.00000\n",
      "Contacts                 1.02000     0.98000\n",
      "Yearly_equip_failure     0.40000     0.40000\n",
      "Tenure                  34.45000    34.58000\n",
      "MonthlyCharge          173.24000   172.16000\n",
      "Bandwidth_GB_Year     3385.03000  3397.88000\n"
     ]
    }
   ],
   "source": [
    "for k in cat_vars:\n",
    "    if k != target:\n",
    "        print('\\n\\n=====================')\n",
    "        print('\\t{}'.format(k.upper()))\n",
    "        print('============================')\n",
    "        print(df.groupby(k).mean().round(2).T)\n"
   ]
  },
  {
   "cell_type": "code",
   "execution_count": 15,
   "metadata": {},
   "outputs": [
    {
     "data": {
      "image/png": "[encoded data removed]",
      "text/plain": [
       "<Figure size 432x288 with 1 Axes>"
      ]
     },
     "metadata": {
      "needs_background": "light"
     },
     "output_type": "display_data"
    },
    {
     "data": {
      "image/png": "[encoded data removed]",
      "text/plain": [
       "<Figure size 432x288 with 1 Axes>"
      ]
     },
     "metadata": {
      "needs_background": "light"
     },
     "output_type": "display_data"
    },
    {
     "data": {
      "image/png": "[encoded data removed]",
      "text/plain": [
       "<Figure size 432x288 with 1 Axes>"
      ]
     },
     "metadata": {
      "needs_background": "light"
     },
     "output_type": "display_data"
    },
    {
     "data": {
      "image/png": "[encoded data removed]",
      "text/plain": [
       "<Figure size 432x288 with 1 Axes>"
      ]
     },
     "metadata": {
      "needs_background": "light"
     },
     "output_type": "display_data"
    },
    {
     "data": {
      "image/png": "[encoded data removed]",
      "text/plain": [
       "<Figure size 432x288 with 1 Axes>"
      ]
     },
     "metadata": {
      "needs_background": "light"
     },
     "output_type": "display_data"
    },
    {
     "data": {
      "image/png": "[encoded data removed]",
      "text/plain": [
       "<Figure size 432x288 with 1 Axes>"
      ]
     },
     "metadata": {
      "needs_background": "light"
     },
     "output_type": "display_data"
    },
    {
     "data": {
      "image/png": "[encoded data removed]",
      "text/plain": [
       "<Figure size 432x288 with 1 Axes>"
      ]
     },
     "metadata": {
      "needs_background": "light"
     },
     "output_type": "display_data"
    },
    {
     "data": {
      "image/png": "[encoded data removed]",
      "text/plain": [
       "<Figure size 432x288 with 1 Axes>"
      ]
     },
     "metadata": {
      "needs_background": "light"
     },
     "output_type": "display_data"
    },
    {
     "data": {
      "image/png": "[encoded data removed]",
      "text/plain": [
       "<Figure size 432x288 with 1 Axes>"
      ]
     },
     "metadata": {
      "needs_background": "light"
     },
     "output_type": "display_data"
    },
    {
     "data": {
      "image/png": "[encoded data removed]",
      "text/plain": [
       "<Figure size 432x288 with 1 Axes>"
      ]
     },
     "metadata": {
      "needs_background": "light"
     },
     "output_type": "display_data"
    },
    {
     "data": {
      "image/png": "[encoded data removed]",
      "text/plain": [
       "<Figure size 432x288 with 1 Axes>"
      ]
     },
     "metadata": {
      "needs_background": "light"
     },
     "output_type": "display_data"
    },
    {
     "data": {
      "image/png": "[encoded data removed]",
      "text/plain": [
       "<Figure size 432x288 with 1 Axes>"
      ]
     },
     "metadata": {
      "needs_background": "light"
     },
     "output_type": "display_data"
    },
    {
     "data": {
      "image/png": "[encoded data removed]",
      "text/plain": [
       "<Figure size 432x288 with 1 Axes>"
      ]
     },
     "metadata": {
      "needs_background": "light"
     },
     "output_type": "display_data"
    },
    {
     "data": {
      "image/png": "[encoded data removed]",
      "text/plain": [
       "<Figure size 432x288 with 1 Axes>"
      ]
     },
     "metadata": {
      "needs_background": "light"
     },
     "output_type": "display_data"
    },
    {
     "data": {
      "image/png": "[encoded data removed]",
      "text/plain": [
       "<Figure size 432x288 with 1 Axes>"
      ]
     },
     "metadata": {
      "needs_background": "light"
     },
     "output_type": "display_data"
    },
    {
     "data": {
      "image/png": "[encoded data removed]",
      "text/plain": [
       "<Figure size 432x288 with 1 Axes>"
      ]
     },
     "metadata": {
      "needs_background": "light"
     },
     "output_type": "display_data"
    },
    {
     "data": {
      "image/png": "[encoded data removed]",
      "text/plain": [
       "<Figure size 432x288 with 1 Axes>"
      ]
     },
     "metadata": {
      "needs_background": "light"
     },
     "output_type": "display_data"
    },
    {
     "data": {
      "image/png": "[encoded data removed]",
      "text/plain": [
       "<Figure size 432x288 with 1 Axes>"
      ]
     },
     "metadata": {
      "needs_background": "light"
     },
     "output_type": "display_data"
    }
   ],
   "source": [
    "# variable vs target overlay\n",
    "for k in cat_vars:\n",
    "    if k != target:\n",
    "        plot_stacked(k)"
   ]
  },
  {
   "cell_type": "code",
   "execution_count": 16,
   "metadata": {},
   "outputs": [],
   "source": [
    "# converting categorical variables to numerical\n",
    "for k in cat_vars:\n",
    "    if k in df.columns:\n",
    "        df = pd.get_dummies(df, columns=[k], drop_first=True)\n",
    "        predictor_variables = (df.select_dtypes(include=\"uint8\").columns.tolist())"
   ]
  },
  {
   "cell_type": "code",
   "execution_count": 17,
   "metadata": {},
   "outputs": [
    {
     "data": {
      "text/html": [
       "<div>\n",
       "<style scoped>\n",
       "    .dataframe tbody tr th:only-of-type {\n",
       "        vertical-align: middle;\n",
       "    }\n",
       "\n",
       "    .dataframe tbody tr th {\n",
       "        vertical-align: top;\n",
       "    }\n",
       "\n",
       "    .dataframe thead th {\n",
       "        text-align: right;\n",
       "    }\n",
       "</style>\n",
       "<table border=\"1\" class=\"dataframe\">\n",
       "  <thead>\n",
       "    <tr style=\"text-align: right;\">\n",
       "      <th></th>\n",
       "      <th>Children</th>\n",
       "      <th>Age</th>\n",
       "      <th>Income</th>\n",
       "      <th>Outage_sec_perweek</th>\n",
       "      <th>Email</th>\n",
       "      <th>Contacts</th>\n",
       "      <th>Yearly_equip_failure</th>\n",
       "      <th>Tenure</th>\n",
       "      <th>MonthlyCharge</th>\n",
       "      <th>Bandwidth_GB_Year</th>\n",
       "      <th>Area_Suburban</th>\n",
       "      <th>Area_Urban</th>\n",
       "      <th>Marital_Not_Married</th>\n",
       "      <th>Gender_Male</th>\n",
       "      <th>Gender_Nonbinary</th>\n",
       "      <th>Churn_Yes</th>\n",
       "      <th>Techie_Yes</th>\n",
       "      <th>Contract_One year</th>\n",
       "      <th>Contract_Two Year</th>\n",
       "      <th>Port_modem_Yes</th>\n",
       "      <th>Tablet_Yes</th>\n",
       "      <th>InternetService_Fiber Optic</th>\n",
       "      <th>InternetService_None</th>\n",
       "      <th>Phone_Yes</th>\n",
       "      <th>Multiple_Yes</th>\n",
       "      <th>OnlineSecurity_Yes</th>\n",
       "      <th>OnlineBackup_Yes</th>\n",
       "      <th>DeviceProtection_Yes</th>\n",
       "      <th>TechSupport_Yes</th>\n",
       "      <th>StreamingTV_Yes</th>\n",
       "      <th>StreamingMovies_Yes</th>\n",
       "      <th>PaperlessBilling_Yes</th>\n",
       "      <th>PaymentMethod_Check</th>\n",
       "    </tr>\n",
       "  </thead>\n",
       "  <tbody>\n",
       "    <tr>\n",
       "      <th>count</th>\n",
       "      <td>10000.00000</td>\n",
       "      <td>10000.00000</td>\n",
       "      <td>10000.00000</td>\n",
       "      <td>10000.00000</td>\n",
       "      <td>10000.00000</td>\n",
       "      <td>10000.00000</td>\n",
       "      <td>10000.00000</td>\n",
       "      <td>10000.00000</td>\n",
       "      <td>10000.00000</td>\n",
       "      <td>10000.00000</td>\n",
       "      <td>10000.00000</td>\n",
       "      <td>10000.00000</td>\n",
       "      <td>10000.00000</td>\n",
       "      <td>10000.00000</td>\n",
       "      <td>10000.00000</td>\n",
       "      <td>10000.00000</td>\n",
       "      <td>10000.00000</td>\n",
       "      <td>10000.00000</td>\n",
       "      <td>10000.00000</td>\n",
       "      <td>10000.00000</td>\n",
       "      <td>10000.00000</td>\n",
       "      <td>10000.00000</td>\n",
       "      <td>10000.00000</td>\n",
       "      <td>10000.00000</td>\n",
       "      <td>10000.00000</td>\n",
       "      <td>10000.00000</td>\n",
       "      <td>10000.00000</td>\n",
       "      <td>10000.00000</td>\n",
       "      <td>10000.00000</td>\n",
       "      <td>10000.00000</td>\n",
       "      <td>10000.00000</td>\n",
       "      <td>10000.00000</td>\n",
       "      <td>10000.00000</td>\n",
       "    </tr>\n",
       "    <tr>\n",
       "      <th>mean</th>\n",
       "      <td>2.08770</td>\n",
       "      <td>53.07840</td>\n",
       "      <td>39806.92677</td>\n",
       "      <td>10.00185</td>\n",
       "      <td>12.01600</td>\n",
       "      <td>0.99420</td>\n",
       "      <td>0.39800</td>\n",
       "      <td>34.52619</td>\n",
       "      <td>172.62482</td>\n",
       "      <td>3392.34155</td>\n",
       "      <td>0.33460</td>\n",
       "      <td>0.33270</td>\n",
       "      <td>0.80890</td>\n",
       "      <td>0.47440</td>\n",
       "      <td>0.02310</td>\n",
       "      <td>0.26500</td>\n",
       "      <td>0.16790</td>\n",
       "      <td>0.21020</td>\n",
       "      <td>0.24420</td>\n",
       "      <td>0.48340</td>\n",
       "      <td>0.29910</td>\n",
       "      <td>0.44080</td>\n",
       "      <td>0.21290</td>\n",
       "      <td>0.90670</td>\n",
       "      <td>0.46080</td>\n",
       "      <td>0.35760</td>\n",
       "      <td>0.45060</td>\n",
       "      <td>0.43860</td>\n",
       "      <td>0.37500</td>\n",
       "      <td>0.49290</td>\n",
       "      <td>0.48900</td>\n",
       "      <td>0.58820</td>\n",
       "      <td>0.56880</td>\n",
       "    </tr>\n",
       "    <tr>\n",
       "      <th>std</th>\n",
       "      <td>2.14720</td>\n",
       "      <td>20.69888</td>\n",
       "      <td>28199.91670</td>\n",
       "      <td>2.97602</td>\n",
       "      <td>3.02590</td>\n",
       "      <td>0.98847</td>\n",
       "      <td>0.63595</td>\n",
       "      <td>26.44306</td>\n",
       "      <td>42.94309</td>\n",
       "      <td>2185.29485</td>\n",
       "      <td>0.47187</td>\n",
       "      <td>0.47120</td>\n",
       "      <td>0.39319</td>\n",
       "      <td>0.49937</td>\n",
       "      <td>0.15023</td>\n",
       "      <td>0.44136</td>\n",
       "      <td>0.37380</td>\n",
       "      <td>0.40747</td>\n",
       "      <td>0.42963</td>\n",
       "      <td>0.49975</td>\n",
       "      <td>0.45789</td>\n",
       "      <td>0.49651</td>\n",
       "      <td>0.40938</td>\n",
       "      <td>0.29087</td>\n",
       "      <td>0.49849</td>\n",
       "      <td>0.47932</td>\n",
       "      <td>0.49758</td>\n",
       "      <td>0.49624</td>\n",
       "      <td>0.48415</td>\n",
       "      <td>0.49997</td>\n",
       "      <td>0.49990</td>\n",
       "      <td>0.49218</td>\n",
       "      <td>0.49527</td>\n",
       "    </tr>\n",
       "    <tr>\n",
       "      <th>min</th>\n",
       "      <td>0.00000</td>\n",
       "      <td>18.00000</td>\n",
       "      <td>348.67000</td>\n",
       "      <td>0.09975</td>\n",
       "      <td>1.00000</td>\n",
       "      <td>0.00000</td>\n",
       "      <td>0.00000</td>\n",
       "      <td>1.00026</td>\n",
       "      <td>79.97886</td>\n",
       "      <td>155.50671</td>\n",
       "      <td>0.00000</td>\n",
       "      <td>0.00000</td>\n",
       "      <td>0.00000</td>\n",
       "      <td>0.00000</td>\n",
       "      <td>0.00000</td>\n",
       "      <td>0.00000</td>\n",
       "      <td>0.00000</td>\n",
       "      <td>0.00000</td>\n",
       "      <td>0.00000</td>\n",
       "      <td>0.00000</td>\n",
       "      <td>0.00000</td>\n",
       "      <td>0.00000</td>\n",
       "      <td>0.00000</td>\n",
       "      <td>0.00000</td>\n",
       "      <td>0.00000</td>\n",
       "      <td>0.00000</td>\n",
       "      <td>0.00000</td>\n",
       "      <td>0.00000</td>\n",
       "      <td>0.00000</td>\n",
       "      <td>0.00000</td>\n",
       "      <td>0.00000</td>\n",
       "      <td>0.00000</td>\n",
       "      <td>0.00000</td>\n",
       "    </tr>\n",
       "    <tr>\n",
       "      <th>25%</th>\n",
       "      <td>0.00000</td>\n",
       "      <td>35.00000</td>\n",
       "      <td>19224.71750</td>\n",
       "      <td>8.01821</td>\n",
       "      <td>10.00000</td>\n",
       "      <td>0.00000</td>\n",
       "      <td>0.00000</td>\n",
       "      <td>7.91769</td>\n",
       "      <td>139.97924</td>\n",
       "      <td>1236.47083</td>\n",
       "      <td>0.00000</td>\n",
       "      <td>0.00000</td>\n",
       "      <td>1.00000</td>\n",
       "      <td>0.00000</td>\n",
       "      <td>0.00000</td>\n",
       "      <td>0.00000</td>\n",
       "      <td>0.00000</td>\n",
       "      <td>0.00000</td>\n",
       "      <td>0.00000</td>\n",
       "      <td>0.00000</td>\n",
       "      <td>0.00000</td>\n",
       "      <td>0.00000</td>\n",
       "      <td>0.00000</td>\n",
       "      <td>1.00000</td>\n",
       "      <td>0.00000</td>\n",
       "      <td>0.00000</td>\n",
       "      <td>0.00000</td>\n",
       "      <td>0.00000</td>\n",
       "      <td>0.00000</td>\n",
       "      <td>0.00000</td>\n",
       "      <td>0.00000</td>\n",
       "      <td>0.00000</td>\n",
       "      <td>0.00000</td>\n",
       "    </tr>\n",
       "    <tr>\n",
       "      <th>50%</th>\n",
       "      <td>1.00000</td>\n",
       "      <td>53.00000</td>\n",
       "      <td>33170.60500</td>\n",
       "      <td>10.01856</td>\n",
       "      <td>12.00000</td>\n",
       "      <td>1.00000</td>\n",
       "      <td>0.00000</td>\n",
       "      <td>35.43051</td>\n",
       "      <td>167.48470</td>\n",
       "      <td>3279.53690</td>\n",
       "      <td>0.00000</td>\n",
       "      <td>0.00000</td>\n",
       "      <td>1.00000</td>\n",
       "      <td>0.00000</td>\n",
       "      <td>0.00000</td>\n",
       "      <td>0.00000</td>\n",
       "      <td>0.00000</td>\n",
       "      <td>0.00000</td>\n",
       "      <td>0.00000</td>\n",
       "      <td>0.00000</td>\n",
       "      <td>0.00000</td>\n",
       "      <td>0.00000</td>\n",
       "      <td>0.00000</td>\n",
       "      <td>1.00000</td>\n",
       "      <td>0.00000</td>\n",
       "      <td>0.00000</td>\n",
       "      <td>0.00000</td>\n",
       "      <td>0.00000</td>\n",
       "      <td>0.00000</td>\n",
       "      <td>0.00000</td>\n",
       "      <td>0.00000</td>\n",
       "      <td>1.00000</td>\n",
       "      <td>1.00000</td>\n",
       "    </tr>\n",
       "    <tr>\n",
       "      <th>75%</th>\n",
       "      <td>3.00000</td>\n",
       "      <td>71.00000</td>\n",
       "      <td>53246.17000</td>\n",
       "      <td>11.96949</td>\n",
       "      <td>14.00000</td>\n",
       "      <td>2.00000</td>\n",
       "      <td>1.00000</td>\n",
       "      <td>61.47980</td>\n",
       "      <td>200.73472</td>\n",
       "      <td>5586.14137</td>\n",
       "      <td>1.00000</td>\n",
       "      <td>1.00000</td>\n",
       "      <td>1.00000</td>\n",
       "      <td>1.00000</td>\n",
       "      <td>0.00000</td>\n",
       "      <td>1.00000</td>\n",
       "      <td>0.00000</td>\n",
       "      <td>0.00000</td>\n",
       "      <td>0.00000</td>\n",
       "      <td>1.00000</td>\n",
       "      <td>1.00000</td>\n",
       "      <td>1.00000</td>\n",
       "      <td>0.00000</td>\n",
       "      <td>1.00000</td>\n",
       "      <td>1.00000</td>\n",
       "      <td>1.00000</td>\n",
       "      <td>1.00000</td>\n",
       "      <td>1.00000</td>\n",
       "      <td>1.00000</td>\n",
       "      <td>1.00000</td>\n",
       "      <td>1.00000</td>\n",
       "      <td>1.00000</td>\n",
       "      <td>1.00000</td>\n",
       "    </tr>\n",
       "    <tr>\n",
       "      <th>max</th>\n",
       "      <td>10.00000</td>\n",
       "      <td>89.00000</td>\n",
       "      <td>258900.70000</td>\n",
       "      <td>21.20723</td>\n",
       "      <td>23.00000</td>\n",
       "      <td>7.00000</td>\n",
       "      <td>6.00000</td>\n",
       "      <td>71.99928</td>\n",
       "      <td>290.16042</td>\n",
       "      <td>7158.98153</td>\n",
       "      <td>1.00000</td>\n",
       "      <td>1.00000</td>\n",
       "      <td>1.00000</td>\n",
       "      <td>1.00000</td>\n",
       "      <td>1.00000</td>\n",
       "      <td>1.00000</td>\n",
       "      <td>1.00000</td>\n",
       "      <td>1.00000</td>\n",
       "      <td>1.00000</td>\n",
       "      <td>1.00000</td>\n",
       "      <td>1.00000</td>\n",
       "      <td>1.00000</td>\n",
       "      <td>1.00000</td>\n",
       "      <td>1.00000</td>\n",
       "      <td>1.00000</td>\n",
       "      <td>1.00000</td>\n",
       "      <td>1.00000</td>\n",
       "      <td>1.00000</td>\n",
       "      <td>1.00000</td>\n",
       "      <td>1.00000</td>\n",
       "      <td>1.00000</td>\n",
       "      <td>1.00000</td>\n",
       "      <td>1.00000</td>\n",
       "    </tr>\n",
       "  </tbody>\n",
       "</table>\n",
       "</div>"
      ],
      "text/plain": [
       "         Children         Age       Income  Outage_sec_perweek       Email  \\\n",
       "count 10000.00000 10000.00000  10000.00000         10000.00000 10000.00000   \n",
       "mean      2.08770    53.07840  39806.92677            10.00185    12.01600   \n",
       "std       2.14720    20.69888  28199.91670             2.97602     3.02590   \n",
       "min       0.00000    18.00000    348.67000             0.09975     1.00000   \n",
       "25%       0.00000    35.00000  19224.71750             8.01821    10.00000   \n",
       "50%       1.00000    53.00000  33170.60500            10.01856    12.00000   \n",
       "75%       3.00000    71.00000  53246.17000            11.96949    14.00000   \n",
       "max      10.00000    89.00000 258900.70000            21.20723    23.00000   \n",
       "\n",
       "         Contacts  Yearly_equip_failure      Tenure  MonthlyCharge  \\\n",
       "count 10000.00000           10000.00000 10000.00000    10000.00000   \n",
       "mean      0.99420               0.39800    34.52619      172.62482   \n",
       "std       0.98847               0.63595    26.44306       42.94309   \n",
       "min       0.00000               0.00000     1.00026       79.97886   \n",
       "25%       0.00000               0.00000     7.91769      139.97924   \n",
       "50%       1.00000               0.00000    35.43051      167.48470   \n",
       "75%       2.00000               1.00000    61.47980      200.73472   \n",
       "max       7.00000               6.00000    71.99928      290.16042   \n",
       "\n",
       "       Bandwidth_GB_Year  Area_Suburban  Area_Urban  Marital_Not_Married  \\\n",
       "count        10000.00000    10000.00000 10000.00000          10000.00000   \n",
       "mean          3392.34155        0.33460     0.33270              0.80890   \n",
       "std           2185.29485        0.47187     0.47120              0.39319   \n",
       "min            155.50671        0.00000     0.00000              0.00000   \n",
       "25%           1236.47083        0.00000     0.00000              1.00000   \n",
       "50%           3279.53690        0.00000     0.00000              1.00000   \n",
       "75%           5586.14137        1.00000     1.00000              1.00000   \n",
       "max           7158.98153        1.00000     1.00000              1.00000   \n",
       "\n",
       "       Gender_Male  Gender_Nonbinary   Churn_Yes  Techie_Yes  \\\n",
       "count  10000.00000       10000.00000 10000.00000 10000.00000   \n",
       "mean       0.47440           0.02310     0.26500     0.16790   \n",
       "std        0.49937           0.15023     0.44136     0.37380   \n",
       "min        0.00000           0.00000     0.00000     0.00000   \n",
       "25%        0.00000           0.00000     0.00000     0.00000   \n",
       "50%        0.00000           0.00000     0.00000     0.00000   \n",
       "75%        1.00000           0.00000     1.00000     0.00000   \n",
       "max        1.00000           1.00000     1.00000     1.00000   \n",
       "\n",
       "       Contract_One year  Contract_Two Year  Port_modem_Yes  Tablet_Yes  \\\n",
       "count        10000.00000        10000.00000     10000.00000 10000.00000   \n",
       "mean             0.21020            0.24420         0.48340     0.29910   \n",
       "std              0.40747            0.42963         0.49975     0.45789   \n",
       "min              0.00000            0.00000         0.00000     0.00000   \n",
       "25%              0.00000            0.00000         0.00000     0.00000   \n",
       "50%              0.00000            0.00000         0.00000     0.00000   \n",
       "75%              0.00000            0.00000         1.00000     1.00000   \n",
       "max              1.00000            1.00000         1.00000     1.00000   \n",
       "\n",
       "       InternetService_Fiber Optic  InternetService_None   Phone_Yes  \\\n",
       "count                  10000.00000           10000.00000 10000.00000   \n",
       "mean                       0.44080               0.21290     0.90670   \n",
       "std                        0.49651               0.40938     0.29087   \n",
       "min                        0.00000               0.00000     0.00000   \n",
       "25%                        0.00000               0.00000     1.00000   \n",
       "50%                        0.00000               0.00000     1.00000   \n",
       "75%                        1.00000               0.00000     1.00000   \n",
       "max                        1.00000               1.00000     1.00000   \n",
       "\n",
       "       Multiple_Yes  OnlineSecurity_Yes  OnlineBackup_Yes  \\\n",
       "count   10000.00000         10000.00000       10000.00000   \n",
       "mean        0.46080             0.35760           0.45060   \n",
       "std         0.49849             0.47932           0.49758   \n",
       "min         0.00000             0.00000           0.00000   \n",
       "25%         0.00000             0.00000           0.00000   \n",
       "50%         0.00000             0.00000           0.00000   \n",
       "75%         1.00000             1.00000           1.00000   \n",
       "max         1.00000             1.00000           1.00000   \n",
       "\n",
       "       DeviceProtection_Yes  TechSupport_Yes  StreamingTV_Yes  \\\n",
       "count           10000.00000      10000.00000      10000.00000   \n",
       "mean                0.43860          0.37500          0.49290   \n",
       "std                 0.49624          0.48415          0.49997   \n",
       "min                 0.00000          0.00000          0.00000   \n",
       "25%                 0.00000          0.00000          0.00000   \n",
       "50%                 0.00000          0.00000          0.00000   \n",
       "75%                 1.00000          1.00000          1.00000   \n",
       "max                 1.00000          1.00000          1.00000   \n",
       "\n",
       "       StreamingMovies_Yes  PaperlessBilling_Yes  PaymentMethod_Check  \n",
       "count          10000.00000           10000.00000          10000.00000  \n",
       "mean               0.48900               0.58820              0.56880  \n",
       "std                0.49990               0.49218              0.49527  \n",
       "min                0.00000               0.00000              0.00000  \n",
       "25%                0.00000               0.00000              0.00000  \n",
       "50%                0.00000               1.00000              1.00000  \n",
       "75%                1.00000               1.00000              1.00000  \n",
       "max                1.00000               1.00000              1.00000  "
      ]
     },
     "execution_count": 17,
     "metadata": {},
     "output_type": "execute_result"
    }
   ],
   "source": [
    "df.describe()"
   ]
  },
  {
   "cell_type": "code",
   "execution_count": 18,
   "metadata": {},
   "outputs": [
    {
     "name": "stdout",
     "output_type": "stream",
     "text": [
      "['Area_Suburban', 'Area_Urban', 'Marital_Not_Married', 'Gender_Male', 'Gender_Nonbinary', 'Churn_Yes', 'Techie_Yes', 'Contract_One year', 'Contract_Two Year', 'Port_modem_Yes', 'Tablet_Yes', 'InternetService_Fiber Optic', 'InternetService_None', 'Phone_Yes', 'Multiple_Yes', 'OnlineSecurity_Yes', 'OnlineBackup_Yes', 'DeviceProtection_Yes', 'TechSupport_Yes', 'StreamingTV_Yes', 'StreamingMovies_Yes', 'PaperlessBilling_Yes', 'PaymentMethod_Check']\n"
     ]
    }
   ],
   "source": [
    "print(predictor_variables)"
   ]
  },
  {
   "cell_type": "code",
   "execution_count": 19,
   "metadata": {},
   "outputs": [],
   "source": [
    "target = 'Churn_Yes'"
   ]
  },
  {
   "cell_type": "code",
   "execution_count": 20,
   "metadata": {},
   "outputs": [
    {
     "data": {
      "image/png": "[encoded data removed]",
      "text/plain": [
       "<Figure size 1080x1080 with 12 Axes>"
      ]
     },
     "metadata": {
      "needs_background": "light"
     },
     "output_type": "display_data"
    }
   ],
   "source": [
    "df[['Children', 'Age', 'Income', 'Outage_sec_perweek', 'Email', 'Contacts',\n",
    "       'Yearly_equip_failure', 'Tenure', 'MonthlyCharge', 'Bandwidth_GB_Year']].hist(bins=15, figsize=(15,15))\n",
    "fig.tight_layout(h_pad=5,w_pad=5)\n",
    "plt.show()"
   ]
  },
  {
   "cell_type": "code",
   "execution_count": 21,
   "metadata": {},
   "outputs": [
    {
     "name": "stdout",
     "output_type": "stream",
     "text": [
      "Index(['Children', 'Age', 'Income', 'Outage_sec_perweek', 'Email', 'Contacts',\n",
      "       'Yearly_equip_failure', 'Tenure', 'MonthlyCharge', 'Bandwidth_GB_Year',\n",
      "       'Area_Suburban', 'Area_Urban', 'Marital_Not_Married', 'Gender_Male',\n",
      "       'Gender_Nonbinary', 'Churn_Yes', 'Techie_Yes', 'Contract_One year',\n",
      "       'Contract_Two Year', 'Port_modem_Yes', 'Tablet_Yes',\n",
      "       'InternetService_Fiber Optic', 'InternetService_None', 'Phone_Yes',\n",
      "       'Multiple_Yes', 'OnlineSecurity_Yes', 'OnlineBackup_Yes',\n",
      "       'DeviceProtection_Yes', 'TechSupport_Yes', 'StreamingTV_Yes',\n",
      "       'StreamingMovies_Yes', 'PaperlessBilling_Yes', 'PaymentMethod_Check'],\n",
      "      dtype='object')\n",
      "<class 'pandas.core.frame.DataFrame'>\n",
      "RangeIndex: 10000 entries, 0 to 9999\n",
      "Data columns (total 33 columns):\n",
      " #   Column                       Non-Null Count  Dtype  \n",
      "---  ------                       --------------  -----  \n",
      " 0   Children                     10000 non-null  int64  \n",
      " 1   Age                          10000 non-null  int64  \n",
      " 2   Income                       10000 non-null  float64\n",
      " 3   Outage_sec_perweek           10000 non-null  float64\n",
      " 4   Email                        10000 non-null  int64  \n",
      " 5   Contacts                     10000 non-null  int64  \n",
      " 6   Yearly_equip_failure         10000 non-null  int64  \n",
      " 7   Tenure                       10000 non-null  float64\n",
      " 8   MonthlyCharge                10000 non-null  float64\n",
      " 9   Bandwidth_GB_Year            10000 non-null  float64\n",
      " 10  Area_Suburban                10000 non-null  uint8  \n",
      " 11  Area_Urban                   10000 non-null  uint8  \n",
      " 12  Marital_Not_Married          10000 non-null  uint8  \n",
      " 13  Gender_Male                  10000 non-null  uint8  \n",
      " 14  Gender_Nonbinary             10000 non-null  uint8  \n",
      " 15  Churn_Yes                    10000 non-null  uint8  \n",
      " 16  Techie_Yes                   10000 non-null  uint8  \n",
      " 17  Contract_One year            10000 non-null  uint8  \n",
      " 18  Contract_Two Year            10000 non-null  uint8  \n",
      " 19  Port_modem_Yes               10000 non-null  uint8  \n",
      " 20  Tablet_Yes                   10000 non-null  uint8  \n",
      " 21  InternetService_Fiber Optic  10000 non-null  uint8  \n",
      " 22  InternetService_None         10000 non-null  uint8  \n",
      " 23  Phone_Yes                    10000 non-null  uint8  \n",
      " 24  Multiple_Yes                 10000 non-null  uint8  \n",
      " 25  OnlineSecurity_Yes           10000 non-null  uint8  \n",
      " 26  OnlineBackup_Yes             10000 non-null  uint8  \n",
      " 27  DeviceProtection_Yes         10000 non-null  uint8  \n",
      " 28  TechSupport_Yes              10000 non-null  uint8  \n",
      " 29  StreamingTV_Yes              10000 non-null  uint8  \n",
      " 30  StreamingMovies_Yes          10000 non-null  uint8  \n",
      " 31  PaperlessBilling_Yes         10000 non-null  uint8  \n",
      " 32  PaymentMethod_Check          10000 non-null  uint8  \n",
      "dtypes: float64(5), int64(5), uint8(23)\n",
      "memory usage: 1006.0 KB\n"
     ]
    },
    {
     "data": {
      "text/html": [
       "<div>\n",
       "<style scoped>\n",
       "    .dataframe tbody tr th:only-of-type {\n",
       "        vertical-align: middle;\n",
       "    }\n",
       "\n",
       "    .dataframe tbody tr th {\n",
       "        vertical-align: top;\n",
       "    }\n",
       "\n",
       "    .dataframe thead th {\n",
       "        text-align: right;\n",
       "    }\n",
       "</style>\n",
       "<table border=\"1\" class=\"dataframe\">\n",
       "  <thead>\n",
       "    <tr style=\"text-align: right;\">\n",
       "      <th></th>\n",
       "      <th>Children</th>\n",
       "      <th>Age</th>\n",
       "      <th>Income</th>\n",
       "      <th>Outage_sec_perweek</th>\n",
       "      <th>Email</th>\n",
       "      <th>Contacts</th>\n",
       "      <th>Yearly_equip_failure</th>\n",
       "      <th>Tenure</th>\n",
       "      <th>MonthlyCharge</th>\n",
       "      <th>Bandwidth_GB_Year</th>\n",
       "      <th>Area_Suburban</th>\n",
       "      <th>Area_Urban</th>\n",
       "      <th>Marital_Not_Married</th>\n",
       "      <th>Gender_Male</th>\n",
       "      <th>Gender_Nonbinary</th>\n",
       "      <th>Churn_Yes</th>\n",
       "      <th>Techie_Yes</th>\n",
       "      <th>Contract_One year</th>\n",
       "      <th>Contract_Two Year</th>\n",
       "      <th>Port_modem_Yes</th>\n",
       "      <th>Tablet_Yes</th>\n",
       "      <th>InternetService_Fiber Optic</th>\n",
       "      <th>InternetService_None</th>\n",
       "      <th>Phone_Yes</th>\n",
       "      <th>Multiple_Yes</th>\n",
       "      <th>OnlineSecurity_Yes</th>\n",
       "      <th>OnlineBackup_Yes</th>\n",
       "      <th>DeviceProtection_Yes</th>\n",
       "      <th>TechSupport_Yes</th>\n",
       "      <th>StreamingTV_Yes</th>\n",
       "      <th>StreamingMovies_Yes</th>\n",
       "      <th>PaperlessBilling_Yes</th>\n",
       "      <th>PaymentMethod_Check</th>\n",
       "    </tr>\n",
       "  </thead>\n",
       "  <tbody>\n",
       "    <tr>\n",
       "      <th>count</th>\n",
       "      <td>10000.00000</td>\n",
       "      <td>10000.00000</td>\n",
       "      <td>10000.00000</td>\n",
       "      <td>10000.00000</td>\n",
       "      <td>10000.00000</td>\n",
       "      <td>10000.00000</td>\n",
       "      <td>10000.00000</td>\n",
       "      <td>10000.00000</td>\n",
       "      <td>10000.00000</td>\n",
       "      <td>10000.00000</td>\n",
       "      <td>10000.00000</td>\n",
       "      <td>10000.00000</td>\n",
       "      <td>10000.00000</td>\n",
       "      <td>10000.00000</td>\n",
       "      <td>10000.00000</td>\n",
       "      <td>10000.00000</td>\n",
       "      <td>10000.00000</td>\n",
       "      <td>10000.00000</td>\n",
       "      <td>10000.00000</td>\n",
       "      <td>10000.00000</td>\n",
       "      <td>10000.00000</td>\n",
       "      <td>10000.00000</td>\n",
       "      <td>10000.00000</td>\n",
       "      <td>10000.00000</td>\n",
       "      <td>10000.00000</td>\n",
       "      <td>10000.00000</td>\n",
       "      <td>10000.00000</td>\n",
       "      <td>10000.00000</td>\n",
       "      <td>10000.00000</td>\n",
       "      <td>10000.00000</td>\n",
       "      <td>10000.00000</td>\n",
       "      <td>10000.00000</td>\n",
       "      <td>10000.00000</td>\n",
       "    </tr>\n",
       "    <tr>\n",
       "      <th>mean</th>\n",
       "      <td>2.08770</td>\n",
       "      <td>53.07840</td>\n",
       "      <td>39806.92677</td>\n",
       "      <td>10.00185</td>\n",
       "      <td>12.01600</td>\n",
       "      <td>0.99420</td>\n",
       "      <td>0.39800</td>\n",
       "      <td>34.52619</td>\n",
       "      <td>172.62482</td>\n",
       "      <td>3392.34155</td>\n",
       "      <td>0.33460</td>\n",
       "      <td>0.33270</td>\n",
       "      <td>0.80890</td>\n",
       "      <td>0.47440</td>\n",
       "      <td>0.02310</td>\n",
       "      <td>0.26500</td>\n",
       "      <td>0.16790</td>\n",
       "      <td>0.21020</td>\n",
       "      <td>0.24420</td>\n",
       "      <td>0.48340</td>\n",
       "      <td>0.29910</td>\n",
       "      <td>0.44080</td>\n",
       "      <td>0.21290</td>\n",
       "      <td>0.90670</td>\n",
       "      <td>0.46080</td>\n",
       "      <td>0.35760</td>\n",
       "      <td>0.45060</td>\n",
       "      <td>0.43860</td>\n",
       "      <td>0.37500</td>\n",
       "      <td>0.49290</td>\n",
       "      <td>0.48900</td>\n",
       "      <td>0.58820</td>\n",
       "      <td>0.56880</td>\n",
       "    </tr>\n",
       "    <tr>\n",
       "      <th>std</th>\n",
       "      <td>2.14720</td>\n",
       "      <td>20.69888</td>\n",
       "      <td>28199.91670</td>\n",
       "      <td>2.97602</td>\n",
       "      <td>3.02590</td>\n",
       "      <td>0.98847</td>\n",
       "      <td>0.63595</td>\n",
       "      <td>26.44306</td>\n",
       "      <td>42.94309</td>\n",
       "      <td>2185.29485</td>\n",
       "      <td>0.47187</td>\n",
       "      <td>0.47120</td>\n",
       "      <td>0.39319</td>\n",
       "      <td>0.49937</td>\n",
       "      <td>0.15023</td>\n",
       "      <td>0.44136</td>\n",
       "      <td>0.37380</td>\n",
       "      <td>0.40747</td>\n",
       "      <td>0.42963</td>\n",
       "      <td>0.49975</td>\n",
       "      <td>0.45789</td>\n",
       "      <td>0.49651</td>\n",
       "      <td>0.40938</td>\n",
       "      <td>0.29087</td>\n",
       "      <td>0.49849</td>\n",
       "      <td>0.47932</td>\n",
       "      <td>0.49758</td>\n",
       "      <td>0.49624</td>\n",
       "      <td>0.48415</td>\n",
       "      <td>0.49997</td>\n",
       "      <td>0.49990</td>\n",
       "      <td>0.49218</td>\n",
       "      <td>0.49527</td>\n",
       "    </tr>\n",
       "    <tr>\n",
       "      <th>min</th>\n",
       "      <td>0.00000</td>\n",
       "      <td>18.00000</td>\n",
       "      <td>348.67000</td>\n",
       "      <td>0.09975</td>\n",
       "      <td>1.00000</td>\n",
       "      <td>0.00000</td>\n",
       "      <td>0.00000</td>\n",
       "      <td>1.00026</td>\n",
       "      <td>79.97886</td>\n",
       "      <td>155.50671</td>\n",
       "      <td>0.00000</td>\n",
       "      <td>0.00000</td>\n",
       "      <td>0.00000</td>\n",
       "      <td>0.00000</td>\n",
       "      <td>0.00000</td>\n",
       "      <td>0.00000</td>\n",
       "      <td>0.00000</td>\n",
       "      <td>0.00000</td>\n",
       "      <td>0.00000</td>\n",
       "      <td>0.00000</td>\n",
       "      <td>0.00000</td>\n",
       "      <td>0.00000</td>\n",
       "      <td>0.00000</td>\n",
       "      <td>0.00000</td>\n",
       "      <td>0.00000</td>\n",
       "      <td>0.00000</td>\n",
       "      <td>0.00000</td>\n",
       "      <td>0.00000</td>\n",
       "      <td>0.00000</td>\n",
       "      <td>0.00000</td>\n",
       "      <td>0.00000</td>\n",
       "      <td>0.00000</td>\n",
       "      <td>0.00000</td>\n",
       "    </tr>\n",
       "    <tr>\n",
       "      <th>25%</th>\n",
       "      <td>0.00000</td>\n",
       "      <td>35.00000</td>\n",
       "      <td>19224.71750</td>\n",
       "      <td>8.01821</td>\n",
       "      <td>10.00000</td>\n",
       "      <td>0.00000</td>\n",
       "      <td>0.00000</td>\n",
       "      <td>7.91769</td>\n",
       "      <td>139.97924</td>\n",
       "      <td>1236.47083</td>\n",
       "      <td>0.00000</td>\n",
       "      <td>0.00000</td>\n",
       "      <td>1.00000</td>\n",
       "      <td>0.00000</td>\n",
       "      <td>0.00000</td>\n",
       "      <td>0.00000</td>\n",
       "      <td>0.00000</td>\n",
       "      <td>0.00000</td>\n",
       "      <td>0.00000</td>\n",
       "      <td>0.00000</td>\n",
       "      <td>0.00000</td>\n",
       "      <td>0.00000</td>\n",
       "      <td>0.00000</td>\n",
       "      <td>1.00000</td>\n",
       "      <td>0.00000</td>\n",
       "      <td>0.00000</td>\n",
       "      <td>0.00000</td>\n",
       "      <td>0.00000</td>\n",
       "      <td>0.00000</td>\n",
       "      <td>0.00000</td>\n",
       "      <td>0.00000</td>\n",
       "      <td>0.00000</td>\n",
       "      <td>0.00000</td>\n",
       "    </tr>\n",
       "    <tr>\n",
       "      <th>50%</th>\n",
       "      <td>1.00000</td>\n",
       "      <td>53.00000</td>\n",
       "      <td>33170.60500</td>\n",
       "      <td>10.01856</td>\n",
       "      <td>12.00000</td>\n",
       "      <td>1.00000</td>\n",
       "      <td>0.00000</td>\n",
       "      <td>35.43051</td>\n",
       "      <td>167.48470</td>\n",
       "      <td>3279.53690</td>\n",
       "      <td>0.00000</td>\n",
       "      <td>0.00000</td>\n",
       "      <td>1.00000</td>\n",
       "      <td>0.00000</td>\n",
       "      <td>0.00000</td>\n",
       "      <td>0.00000</td>\n",
       "      <td>0.00000</td>\n",
       "      <td>0.00000</td>\n",
       "      <td>0.00000</td>\n",
       "      <td>0.00000</td>\n",
       "      <td>0.00000</td>\n",
       "      <td>0.00000</td>\n",
       "      <td>0.00000</td>\n",
       "      <td>1.00000</td>\n",
       "      <td>0.00000</td>\n",
       "      <td>0.00000</td>\n",
       "      <td>0.00000</td>\n",
       "      <td>0.00000</td>\n",
       "      <td>0.00000</td>\n",
       "      <td>0.00000</td>\n",
       "      <td>0.00000</td>\n",
       "      <td>1.00000</td>\n",
       "      <td>1.00000</td>\n",
       "    </tr>\n",
       "    <tr>\n",
       "      <th>75%</th>\n",
       "      <td>3.00000</td>\n",
       "      <td>71.00000</td>\n",
       "      <td>53246.17000</td>\n",
       "      <td>11.96949</td>\n",
       "      <td>14.00000</td>\n",
       "      <td>2.00000</td>\n",
       "      <td>1.00000</td>\n",
       "      <td>61.47980</td>\n",
       "      <td>200.73472</td>\n",
       "      <td>5586.14137</td>\n",
       "      <td>1.00000</td>\n",
       "      <td>1.00000</td>\n",
       "      <td>1.00000</td>\n",
       "      <td>1.00000</td>\n",
       "      <td>0.00000</td>\n",
       "      <td>1.00000</td>\n",
       "      <td>0.00000</td>\n",
       "      <td>0.00000</td>\n",
       "      <td>0.00000</td>\n",
       "      <td>1.00000</td>\n",
       "      <td>1.00000</td>\n",
       "      <td>1.00000</td>\n",
       "      <td>0.00000</td>\n",
       "      <td>1.00000</td>\n",
       "      <td>1.00000</td>\n",
       "      <td>1.00000</td>\n",
       "      <td>1.00000</td>\n",
       "      <td>1.00000</td>\n",
       "      <td>1.00000</td>\n",
       "      <td>1.00000</td>\n",
       "      <td>1.00000</td>\n",
       "      <td>1.00000</td>\n",
       "      <td>1.00000</td>\n",
       "    </tr>\n",
       "    <tr>\n",
       "      <th>max</th>\n",
       "      <td>10.00000</td>\n",
       "      <td>89.00000</td>\n",
       "      <td>258900.70000</td>\n",
       "      <td>21.20723</td>\n",
       "      <td>23.00000</td>\n",
       "      <td>7.00000</td>\n",
       "      <td>6.00000</td>\n",
       "      <td>71.99928</td>\n",
       "      <td>290.16042</td>\n",
       "      <td>7158.98153</td>\n",
       "      <td>1.00000</td>\n",
       "      <td>1.00000</td>\n",
       "      <td>1.00000</td>\n",
       "      <td>1.00000</td>\n",
       "      <td>1.00000</td>\n",
       "      <td>1.00000</td>\n",
       "      <td>1.00000</td>\n",
       "      <td>1.00000</td>\n",
       "      <td>1.00000</td>\n",
       "      <td>1.00000</td>\n",
       "      <td>1.00000</td>\n",
       "      <td>1.00000</td>\n",
       "      <td>1.00000</td>\n",
       "      <td>1.00000</td>\n",
       "      <td>1.00000</td>\n",
       "      <td>1.00000</td>\n",
       "      <td>1.00000</td>\n",
       "      <td>1.00000</td>\n",
       "      <td>1.00000</td>\n",
       "      <td>1.00000</td>\n",
       "      <td>1.00000</td>\n",
       "      <td>1.00000</td>\n",
       "      <td>1.00000</td>\n",
       "    </tr>\n",
       "  </tbody>\n",
       "</table>\n",
       "</div>"
      ],
      "text/plain": [
       "         Children         Age       Income  Outage_sec_perweek       Email  \\\n",
       "count 10000.00000 10000.00000  10000.00000         10000.00000 10000.00000   \n",
       "mean      2.08770    53.07840  39806.92677            10.00185    12.01600   \n",
       "std       2.14720    20.69888  28199.91670             2.97602     3.02590   \n",
       "min       0.00000    18.00000    348.67000             0.09975     1.00000   \n",
       "25%       0.00000    35.00000  19224.71750             8.01821    10.00000   \n",
       "50%       1.00000    53.00000  33170.60500            10.01856    12.00000   \n",
       "75%       3.00000    71.00000  53246.17000            11.96949    14.00000   \n",
       "max      10.00000    89.00000 258900.70000            21.20723    23.00000   \n",
       "\n",
       "         Contacts  Yearly_equip_failure      Tenure  MonthlyCharge  \\\n",
       "count 10000.00000           10000.00000 10000.00000    10000.00000   \n",
       "mean      0.99420               0.39800    34.52619      172.62482   \n",
       "std       0.98847               0.63595    26.44306       42.94309   \n",
       "min       0.00000               0.00000     1.00026       79.97886   \n",
       "25%       0.00000               0.00000     7.91769      139.97924   \n",
       "50%       1.00000               0.00000    35.43051      167.48470   \n",
       "75%       2.00000               1.00000    61.47980      200.73472   \n",
       "max       7.00000               6.00000    71.99928      290.16042   \n",
       "\n",
       "       Bandwidth_GB_Year  Area_Suburban  Area_Urban  Marital_Not_Married  \\\n",
       "count        10000.00000    10000.00000 10000.00000          10000.00000   \n",
       "mean          3392.34155        0.33460     0.33270              0.80890   \n",
       "std           2185.29485        0.47187     0.47120              0.39319   \n",
       "min            155.50671        0.00000     0.00000              0.00000   \n",
       "25%           1236.47083        0.00000     0.00000              1.00000   \n",
       "50%           3279.53690        0.00000     0.00000              1.00000   \n",
       "75%           5586.14137        1.00000     1.00000              1.00000   \n",
       "max           7158.98153        1.00000     1.00000              1.00000   \n",
       "\n",
       "       Gender_Male  Gender_Nonbinary   Churn_Yes  Techie_Yes  \\\n",
       "count  10000.00000       10000.00000 10000.00000 10000.00000   \n",
       "mean       0.47440           0.02310     0.26500     0.16790   \n",
       "std        0.49937           0.15023     0.44136     0.37380   \n",
       "min        0.00000           0.00000     0.00000     0.00000   \n",
       "25%        0.00000           0.00000     0.00000     0.00000   \n",
       "50%        0.00000           0.00000     0.00000     0.00000   \n",
       "75%        1.00000           0.00000     1.00000     0.00000   \n",
       "max        1.00000           1.00000     1.00000     1.00000   \n",
       "\n",
       "       Contract_One year  Contract_Two Year  Port_modem_Yes  Tablet_Yes  \\\n",
       "count        10000.00000        10000.00000     10000.00000 10000.00000   \n",
       "mean             0.21020            0.24420         0.48340     0.29910   \n",
       "std              0.40747            0.42963         0.49975     0.45789   \n",
       "min              0.00000            0.00000         0.00000     0.00000   \n",
       "25%              0.00000            0.00000         0.00000     0.00000   \n",
       "50%              0.00000            0.00000         0.00000     0.00000   \n",
       "75%              0.00000            0.00000         1.00000     1.00000   \n",
       "max              1.00000            1.00000         1.00000     1.00000   \n",
       "\n",
       "       InternetService_Fiber Optic  InternetService_None   Phone_Yes  \\\n",
       "count                  10000.00000           10000.00000 10000.00000   \n",
       "mean                       0.44080               0.21290     0.90670   \n",
       "std                        0.49651               0.40938     0.29087   \n",
       "min                        0.00000               0.00000     0.00000   \n",
       "25%                        0.00000               0.00000     1.00000   \n",
       "50%                        0.00000               0.00000     1.00000   \n",
       "75%                        1.00000               0.00000     1.00000   \n",
       "max                        1.00000               1.00000     1.00000   \n",
       "\n",
       "       Multiple_Yes  OnlineSecurity_Yes  OnlineBackup_Yes  \\\n",
       "count   10000.00000         10000.00000       10000.00000   \n",
       "mean        0.46080             0.35760           0.45060   \n",
       "std         0.49849             0.47932           0.49758   \n",
       "min         0.00000             0.00000           0.00000   \n",
       "25%         0.00000             0.00000           0.00000   \n",
       "50%         0.00000             0.00000           0.00000   \n",
       "75%         1.00000             1.00000           1.00000   \n",
       "max         1.00000             1.00000           1.00000   \n",
       "\n",
       "       DeviceProtection_Yes  TechSupport_Yes  StreamingTV_Yes  \\\n",
       "count           10000.00000      10000.00000      10000.00000   \n",
       "mean                0.43860          0.37500          0.49290   \n",
       "std                 0.49624          0.48415          0.49997   \n",
       "min                 0.00000          0.00000          0.00000   \n",
       "25%                 0.00000          0.00000          0.00000   \n",
       "50%                 0.00000          0.00000          0.00000   \n",
       "75%                 1.00000          1.00000          1.00000   \n",
       "max                 1.00000          1.00000          1.00000   \n",
       "\n",
       "       StreamingMovies_Yes  PaperlessBilling_Yes  PaymentMethod_Check  \n",
       "count          10000.00000           10000.00000          10000.00000  \n",
       "mean               0.48900               0.58820              0.56880  \n",
       "std                0.49990               0.49218              0.49527  \n",
       "min                0.00000               0.00000              0.00000  \n",
       "25%                0.00000               0.00000              0.00000  \n",
       "50%                0.00000               1.00000              1.00000  \n",
       "75%                1.00000               1.00000              1.00000  \n",
       "max                1.00000               1.00000              1.00000  "
      ]
     },
     "execution_count": 21,
     "metadata": {},
     "output_type": "execute_result"
    }
   ],
   "source": [
    "print(df.columns)\n",
    "df.shape\n",
    "df.info(show_counts=True)\n",
    "df.describe()"
   ]
  },
  {
   "cell_type": "code",
   "execution_count": 22,
   "metadata": {},
   "outputs": [
    {
     "data": {
      "image/png": "[encoded data removed]",
      "text/plain": [
       "<Figure size 432x288 with 1 Axes>"
      ]
     },
     "metadata": {
      "needs_background": "light"
     },
     "output_type": "display_data"
    },
    {
     "data": {
      "image/png": "[encoded data removed]",
      "text/plain": [
       "<Figure size 432x288 with 1 Axes>"
      ]
     },
     "metadata": {
      "needs_background": "light"
     },
     "output_type": "display_data"
    },
    {
     "data": {
      "image/png": "[encoded data removed]",
      "text/plain": [
       "<Figure size 432x288 with 1 Axes>"
      ]
     },
     "metadata": {
      "needs_background": "light"
     },
     "output_type": "display_data"
    },
    {
     "data": {
      "image/png": "[encoded data removed]",
      "text/plain": [
       "<Figure size 432x288 with 1 Axes>"
      ]
     },
     "metadata": {
      "needs_background": "light"
     },
     "output_type": "display_data"
    }
   ],
   "source": [
    "# seaborn boxplots are another tool for continuous variables\n",
    "sns.boxplot('Age', data = df)\n",
    "plt.show()\n",
    "sns.boxplot('Tenure', data = df)\n",
    "plt.show()\n",
    "sns.boxplot('Bandwidth_GB_Year', data=df)\n",
    "plt.show()\n",
    "sns.boxplot('MonthlyCharge', data = df)\n",
    "plt.show()"
   ]
  },
  {
   "cell_type": "code",
   "execution_count": 23,
   "metadata": {},
   "outputs": [
    {
     "data": {
      "image/png": "[encoded data removed]",
      "text/plain": [
       "<Figure size 432x288 with 1 Axes>"
      ]
     },
     "metadata": {
      "needs_background": "light"
     },
     "output_type": "display_data"
    }
   ],
   "source": [
    "sns.scatterplot(x=df['Children'], y=df[target], color='blue')\n",
    "plt.show()"
   ]
  },
  {
   "cell_type": "code",
   "execution_count": 24,
   "metadata": {},
   "outputs": [
    {
     "data": {
      "image/png": "[encoded data removed]",
      "text/plain": [
       "<Figure size 432x288 with 1 Axes>"
      ]
     },
     "metadata": {
      "needs_background": "light"
     },
     "output_type": "display_data"
    }
   ],
   "source": [
    "sns.scatterplot(x=df['Age'], y=df[target], color='blue')\n",
    "plt.show()"
   ]
  },
  {
   "cell_type": "code",
   "execution_count": 25,
   "metadata": {},
   "outputs": [
    {
     "data": {
      "image/png": "[encoded data removed]",
      "text/plain": [
       "<Figure size 432x288 with 1 Axes>"
      ]
     },
     "metadata": {
      "needs_background": "light"
     },
     "output_type": "display_data"
    }
   ],
   "source": [
    "sns.scatterplot(x=df['Income'], y=df[target], color='blue')\n",
    "plt.show()"
   ]
  },
  {
   "cell_type": "code",
   "execution_count": 26,
   "metadata": {},
   "outputs": [
    {
     "data": {
      "image/png": "[encoded data removed]",
      "text/plain": [
       "<Figure size 432x288 with 1 Axes>"
      ]
     },
     "metadata": {
      "needs_background": "light"
     },
     "output_type": "display_data"
    }
   ],
   "source": [
    "sns.scatterplot(x=df['Outage_sec_perweek'], y=df[target], \n",
    "color='blue')\n",
    "plt.show()"
   ]
  },
  {
   "cell_type": "code",
   "execution_count": 27,
   "metadata": {},
   "outputs": [
    {
     "data": {
      "image/png": "[encoded data removed]",
      "text/plain": [
       "<Figure size 432x288 with 1 Axes>"
      ]
     },
     "metadata": {
      "needs_background": "light"
     },
     "output_type": "display_data"
    }
   ],
   "source": [
    "sns.scatterplot(x=df['Email'], y=df[target], color='blue')\n",
    "plt.show()"
   ]
  },
  {
   "cell_type": "code",
   "execution_count": 28,
   "metadata": {},
   "outputs": [
    {
     "data": {
      "image/png": "[encoded data removed]",
      "text/plain": [
       "<Figure size 432x288 with 1 Axes>"
      ]
     },
     "metadata": {
      "needs_background": "light"
     },
     "output_type": "display_data"
    }
   ],
   "source": [
    "sns.scatterplot(x=df['Contacts'], y=df[target], color='blue')\n",
    "plt.show()"
   ]
  },
  {
   "cell_type": "code",
   "execution_count": 29,
   "metadata": {},
   "outputs": [
    {
     "data": {
      "image/png": "[encoded data removed]",
      "text/plain": [
       "<Figure size 432x288 with 1 Axes>"
      ]
     },
     "metadata": {
      "needs_background": "light"
     },
     "output_type": "display_data"
    }
   ],
   "source": [
    "sns.scatterplot(x=df['Yearly_equip_failure'], \n",
    "y=df[target], color='blue')\n",
    "plt.show()"
   ]
  },
  {
   "cell_type": "code",
   "execution_count": 30,
   "metadata": {},
   "outputs": [
    {
     "data": {
      "image/png": "[encoded data removed]",
      "text/plain": [
       "<Figure size 432x288 with 1 Axes>"
      ]
     },
     "metadata": {
      "needs_background": "light"
     },
     "output_type": "display_data"
    }
   ],
   "source": [
    "sns.scatterplot(x=df['Tenure'], y=df[target], color='blue')\n",
    "plt.show()"
   ]
  },
  {
   "cell_type": "code",
   "execution_count": 31,
   "metadata": {},
   "outputs": [
    {
     "data": {
      "image/png": "[encoded data removed]",
      "text/plain": [
       "<Figure size 432x288 with 1 Axes>"
      ]
     },
     "metadata": {
      "needs_background": "light"
     },
     "output_type": "display_data"
    }
   ],
   "source": [
    "sns.scatterplot(x=df['MonthlyCharge'], \n",
    "y=df[target], color='blue')\n",
    "plt.show()"
   ]
  },
  {
   "cell_type": "code",
   "execution_count": 32,
   "metadata": {},
   "outputs": [
    {
     "data": {
      "image/png": "[encoded data removed]",
      "text/plain": [
       "<Figure size 432x288 with 1 Axes>"
      ]
     },
     "metadata": {
      "needs_background": "light"
     },
     "output_type": "display_data"
    }
   ],
   "source": [
    "sns.scatterplot(x=df['Bandwidth_GB_Year'], \n",
    "y=df[target], color='blue')\n",
    "plt.show()"
   ]
  },
  {
   "cell_type": "code",
   "execution_count": 33,
   "metadata": {},
   "outputs": [
    {
     "name": "stdout",
     "output_type": "stream",
     "text": [
      "   Children  Age      Income  Outage_sec_perweek  Email  Contacts  \\\n",
      "0         0   68 28561.99000             7.97832     10         0   \n",
      "1         1   27 21704.77000            11.69908     12         0   \n",
      "2         4   50  9609.57000            10.75280      9         0   \n",
      "3         1   48 18925.23000            14.91354     15         2   \n",
      "4         0   83 40074.19000             8.14742     16         2   \n",
      "\n",
      "   Yearly_equip_failure   Tenure  MonthlyCharge  Bandwidth_GB_Year  \\\n",
      "0                     1  6.79551      172.45552          904.53611   \n",
      "1                     1  1.15668      242.63255          800.98277   \n",
      "2                     1 15.75414      159.94758         2054.70696   \n",
      "3                     0 17.08723      119.95684         2164.57941   \n",
      "4                     1  1.67097      149.94832          271.49344   \n",
      "\n",
      "   Area_Suburban  Area_Urban  Marital_Not_Married  Gender_Male  \\\n",
      "0              0           1                    1            1   \n",
      "1              0           1                    0            0   \n",
      "2              0           1                    1            0   \n",
      "3              1           0                    0            1   \n",
      "4              1           0                    1            1   \n",
      "\n",
      "   Gender_Nonbinary  Churn_Yes  Techie_Yes  Contract_One year  \\\n",
      "0                 0          0           0                  1   \n",
      "1                 0          1           1                  0   \n",
      "2                 0          0           1                  0   \n",
      "3                 0          0           1                  0   \n",
      "4                 0          1           0                  0   \n",
      "\n",
      "   Contract_Two Year  Port_modem_Yes  Tablet_Yes  InternetService_Fiber Optic  \\\n",
      "0                  0               1           1                            1   \n",
      "1                  0               0           1                            1   \n",
      "2                  1               1           0                            0   \n",
      "3                  1               0           0                            0   \n",
      "4                  0               1           0                            1   \n",
      "\n",
      "   InternetService_None  Phone_Yes  Multiple_Yes  OnlineSecurity_Yes  \\\n",
      "0                     0          1             0                   1   \n",
      "1                     0          1             1                   1   \n",
      "2                     0          1             1                   0   \n",
      "3                     0          1             0                   1   \n",
      "4                     0          0             0                   0   \n",
      "\n",
      "   OnlineBackup_Yes  DeviceProtection_Yes  TechSupport_Yes  StreamingTV_Yes  \\\n",
      "0                 1                     0                0                0   \n",
      "1                 0                     0                0                1   \n",
      "2                 0                     0                0                0   \n",
      "3                 0                     0                0                1   \n",
      "4                 0                     0                1                1   \n",
      "\n",
      "   StreamingMovies_Yes  PaperlessBilling_Yes  PaymentMethod_Check  \n",
      "0                    1                     1                    0  \n",
      "1                    1                     1                    0  \n",
      "2                    1                     1                    0  \n",
      "3                    0                     1                    1  \n",
      "4                    0                     0                    1  \n",
      "Index(['Children', 'Age', 'Income', 'Outage_sec_perweek', 'Email', 'Contacts',\n",
      "       'Yearly_equip_failure', 'Tenure', 'MonthlyCharge', 'Bandwidth_GB_Year',\n",
      "       'Area_Suburban', 'Area_Urban', 'Marital_Not_Married', 'Gender_Male',\n",
      "       'Gender_Nonbinary', 'Churn_Yes', 'Techie_Yes', 'Contract_One year',\n",
      "       'Contract_Two Year', 'Port_modem_Yes', 'Tablet_Yes',\n",
      "       'InternetService_Fiber Optic', 'InternetService_None', 'Phone_Yes',\n",
      "       'Multiple_Yes', 'OnlineSecurity_Yes', 'OnlineBackup_Yes',\n",
      "       'DeviceProtection_Yes', 'TechSupport_Yes', 'StreamingTV_Yes',\n",
      "       'StreamingMovies_Yes', 'PaperlessBilling_Yes', 'PaymentMethod_Check'],\n",
      "      dtype='object')\n"
     ]
    }
   ],
   "source": [
    "print(df.head())\n",
    "print(df.columns)"
   ]
  },
  {
   "cell_type": "code",
   "execution_count": 34,
   "metadata": {},
   "outputs": [
    {
     "data": {
      "text/plain": [
       "<AxesSubplot:>"
      ]
     },
     "execution_count": 34,
     "metadata": {},
     "output_type": "execute_result"
    },
    {
     "data": {
      "image/png": "[encoded data removed]",
      "text/plain": [
       "<Figure size 1080x1080 with 2 Axes>"
      ]
     },
     "metadata": {
      "needs_background": "light"
     },
     "output_type": "display_data"
    }
   ],
   "source": [
    "df=df[['Children', 'Age', 'Income', 'Outage_sec_perweek',\n",
    "       'Email', 'Contacts', 'Yearly_equip_failure', 'Tenure', 'MonthlyCharge',\n",
    "       'Bandwidth_GB_Year', 'Area_Suburban', 'Area_Urban',\n",
    "       'Marital_Not_Married', 'Gender_Male', 'Gender_Nonbinary',\n",
    "       'Techie_Yes', 'Contract_One year', 'Contract_Two Year',\n",
    "       'Port_modem_Yes', 'Tablet_Yes', 'InternetService_Fiber Optic',\n",
    "       'InternetService_None', 'Phone_Yes', 'Multiple_Yes',\n",
    "       'OnlineSecurity_Yes', 'OnlineBackup_Yes', 'DeviceProtection_Yes',\n",
    "       'TechSupport_Yes', 'StreamingTV_Yes', 'StreamingMovies_Yes',\n",
    "       'PaperlessBilling_Yes', 'PaymentMethod_Check','Churn_Yes']]\n",
    "correlation = df.corr()\n",
    "fig, ax = plt.subplots(figsize=(15,15))\n",
    "sns.heatmap(correlation, xticklabels=correlation.columns, \n",
    "yticklabels = correlation.columns, cmap='RdBu')"
   ]
  },
  {
   "cell_type": "code",
   "execution_count": 35,
   "metadata": {},
   "outputs": [
    {
     "name": "stdout",
     "output_type": "stream",
     "text": [
      "Index(['Unnamed: 0', 'Children', 'Age', 'Income', 'Outage_sec_perweek',\n",
      "       'Email', 'Contacts', 'Yearly_equip_failure', 'Tenure', 'MonthlyCharge',\n",
      "       'Bandwidth_GB_Year', 'Area_Suburban', 'Area_Urban',\n",
      "       'Marital_Not_Married', 'Gender_Male', 'Gender_Nonbinary', 'Techie_Yes',\n",
      "       'Contract_One year', 'Contract_Two Year', 'Port_modem_Yes',\n",
      "       'Tablet_Yes', 'InternetService_Fiber Optic', 'InternetService_None',\n",
      "       'Phone_Yes', 'Multiple_Yes', 'OnlineSecurity_Yes', 'OnlineBackup_Yes',\n",
      "       'DeviceProtection_Yes', 'TechSupport_Yes', 'StreamingTV_Yes',\n",
      "       'StreamingMovies_Yes', 'PaperlessBilling_Yes', 'PaymentMethod_Check',\n",
      "       'Churn_Yes', 'intercept'],\n",
      "      dtype='object')\n"
     ]
    }
   ],
   "source": [
    "# providing a copy of the prepared data set\n",
    "df.to_csv('churn_prepared_step5_d208_pt2.csv')\n",
    "prep_df = pd.read_csv('churn_prepared_step5_d208_pt2.csv')\n",
    "prep_df['intercept']=1\n",
    "prep_df = pd.get_dummies(prep_df, drop_first=True)\n",
    "prep_df_col = prep_df.columns\n",
    "print(prep_df_col)"
   ]
  },
  {
   "cell_type": "code",
   "execution_count": 36,
   "metadata": {},
   "outputs": [],
   "source": [
    "prep_df = prep_df[['Children', 'Age', 'Income', 'Outage_sec_perweek',\n",
    "       'Email', 'Contacts', 'Yearly_equip_failure', 'Tenure', 'MonthlyCharge',\n",
    "       'Bandwidth_GB_Year', 'Area_Suburban', 'Area_Urban',\n",
    "       'Marital_Not_Married', 'Gender_Male', 'Gender_Nonbinary', 'Techie_Yes',\n",
    "       'Contract_One year', 'Contract_Two Year', 'Port_modem_Yes',\n",
    "       'Tablet_Yes', 'InternetService_Fiber Optic', 'InternetService_None',\n",
    "       'Phone_Yes', 'Multiple_Yes', 'OnlineSecurity_Yes', 'OnlineBackup_Yes',\n",
    "       'DeviceProtection_Yes', 'TechSupport_Yes', 'StreamingTV_Yes',\n",
    "       'StreamingMovies_Yes', 'PaperlessBilling_Yes', 'PaymentMethod_Check',\n",
    "       'Churn_Yes', 'intercept']]"
   ]
  },
  {
   "cell_type": "code",
   "execution_count": 37,
   "metadata": {},
   "outputs": [
    {
     "name": "stdout",
     "output_type": "stream",
     "text": [
      "Optimization terminated successfully.\n",
      "         Current function value: 0.319801\n",
      "         Iterations 8\n",
      "                           Logit Regression Results                           \n",
      "==============================================================================\n",
      "Dep. Variable:              Churn_Yes   No. Observations:                10000\n",
      "Model:                          Logit   Df Residuals:                     9989\n",
      "Method:                           MLE   Df Model:                           10\n",
      "Date:                Mon, 25 Apr 2022   Pseudo R-squ.:                  0.4469\n",
      "Time:                        04:27:03   Log-Likelihood:                -3198.0\n",
      "converged:                       True   LL-Null:                       -5782.2\n",
      "Covariance Type:            nonrobust   LLR p-value:                     0.000\n",
      "========================================================================================\n",
      "                           coef    std err          z      P>|z|      [0.025      0.975]\n",
      "----------------------------------------------------------------------------------------\n",
      "Children                -0.0978      0.015     -6.311      0.000      -0.128      -0.067\n",
      "Age                      0.0114      0.002      7.140      0.000       0.008       0.015\n",
      "Income                5.181e-07   1.11e-06      0.465      0.642   -1.67e-06     2.7e-06\n",
      "Outage_sec_perweek      -0.0005      0.011     -0.044      0.965      -0.021       0.020\n",
      "Email                    0.0018      0.010      0.174      0.862      -0.019       0.022\n",
      "Contacts                 0.0239      0.032      0.753      0.452      -0.038       0.086\n",
      "Yearly_equip_failure    -0.0267      0.050     -0.539      0.590      -0.124       0.070\n",
      "Tenure                  -0.3156      0.012    -25.499      0.000      -0.340      -0.291\n",
      "MonthlyCharge            0.0262      0.001     27.349      0.000       0.024       0.028\n",
      "Bandwidth_GB_Year        0.0029      0.000     20.173      0.000       0.003       0.003\n",
      "intercept               -5.9558      0.256    -23.276      0.000      -6.457      -5.454\n",
      "========================================================================================\n"
     ]
    }
   ],
   "source": [
    "# initial logit model with only the numerical predictor variables\n",
    "\n",
    "logit_model_num = sm.Logit(prep_df['Churn_Yes'], \n",
    "prep_df[['Children', 'Age', 'Income', 'Outage_sec_perweek',\n",
    "       'Email', 'Contacts', 'Yearly_equip_failure', 'Tenure', 'MonthlyCharge',\n",
    "       'Bandwidth_GB_Year', 'intercept']]).fit()\n",
    "print(logit_model_num.summary())"
   ]
  },
  {
   "cell_type": "code",
   "execution_count": 38,
   "metadata": {},
   "outputs": [
    {
     "name": "stdout",
     "output_type": "stream",
     "text": [
      "Optimization terminated successfully.\n",
      "         Current function value: 0.432807\n",
      "         Iterations 7\n",
      "                           Logit Regression Results                           \n",
      "==============================================================================\n",
      "Dep. Variable:              Churn_Yes   No. Observations:                10000\n",
      "Model:                          Logit   Df Residuals:                     9977\n",
      "Method:                           MLE   Df Model:                           22\n",
      "Date:                Mon, 25 Apr 2022   Pseudo R-squ.:                  0.2515\n",
      "Time:                        04:27:04   Log-Likelihood:                -4328.1\n",
      "converged:                       True   LL-Null:                       -5782.2\n",
      "Covariance Type:            nonrobust   LLR p-value:                     0.000\n",
      "===============================================================================================\n",
      "                                  coef    std err          z      P>|z|      [0.025      0.975]\n",
      "-----------------------------------------------------------------------------------------------\n",
      "Area_Suburban                  -0.0203      0.066     -0.309      0.758      -0.149       0.109\n",
      "Area_Urban                      0.0924      0.065      1.413      0.158      -0.036       0.221\n",
      "Marital_Not_Married             0.0638      0.068      0.935      0.350      -0.070       0.197\n",
      "Gender_Male                     0.1572      0.054      2.906      0.004       0.051       0.263\n",
      "Gender_Nonbinary               -0.0155      0.187     -0.083      0.934      -0.383       0.352\n",
      "Techie_Yes                      0.5339      0.069      7.765      0.000       0.399       0.669\n",
      "Contract_One year              -1.6806      0.078    -21.587      0.000      -1.833      -1.528\n",
      "Contract_Two Year              -1.8269      0.076    -23.893      0.000      -1.977      -1.677\n",
      "Port_modem_Yes                  0.0354      0.054      0.662      0.508      -0.069       0.140\n",
      "Tablet_Yes                     -0.0470      0.059     -0.803      0.422      -0.162       0.068\n",
      "InternetService_Fiber Optic    -0.6032      0.060     -9.998      0.000      -0.721      -0.485\n",
      "InternetService_None           -0.5978      0.074     -8.067      0.000      -0.743      -0.453\n",
      "Phone_Yes                      -0.1367      0.090     -1.520      0.128      -0.313       0.040\n",
      "Multiple_Yes                    0.8547      0.054     15.692      0.000       0.748       0.961\n",
      "OnlineSecurity_Yes             -0.1031      0.056     -1.837      0.066      -0.213       0.007\n",
      "OnlineBackup_Yes                0.3324      0.054      6.186      0.000       0.227       0.438\n",
      "DeviceProtection_Yes            0.3153      0.054      5.865      0.000       0.210       0.421\n",
      "TechSupport_Yes                 0.1560      0.055      2.836      0.005       0.048       0.264\n",
      "StreamingTV_Yes                 1.4797      0.057     25.939      0.000       1.368       1.591\n",
      "StreamingMovies_Yes             1.7646      0.058     30.352      0.000       1.651       1.878\n",
      "PaperlessBilling_Yes            0.0825      0.054      1.517      0.129      -0.024       0.189\n",
      "PaymentMethod_Check             0.1492      0.054      2.753      0.006       0.043       0.255\n",
      "intercept                      -2.8307      0.153    -18.485      0.000      -3.131      -2.531\n",
      "===============================================================================================\n"
     ]
    }
   ],
   "source": [
    "# initial logit model with only the categorical predictor variables\n",
    "\n",
    "logit_model_cat = sm.Logit(prep_df['Churn_Yes'], \n",
    "prep_df[['Area_Suburban', 'Area_Urban',\n",
    "       'Marital_Not_Married', 'Gender_Male', 'Gender_Nonbinary', 'Techie_Yes',\n",
    "       'Contract_One year', 'Contract_Two Year', 'Port_modem_Yes',\n",
    "       'Tablet_Yes', 'InternetService_Fiber Optic', 'InternetService_None',\n",
    "       'Phone_Yes', 'Multiple_Yes', 'OnlineSecurity_Yes', 'OnlineBackup_Yes',\n",
    "       'DeviceProtection_Yes', 'TechSupport_Yes', 'StreamingTV_Yes',\n",
    "       'StreamingMovies_Yes', 'PaperlessBilling_Yes', 'PaymentMethod_Check',\n",
    "       'intercept']]).fit()\n",
    "print(logit_model_cat.summary())"
   ]
  },
  {
   "cell_type": "code",
   "execution_count": 39,
   "metadata": {},
   "outputs": [
    {
     "name": "stdout",
     "output_type": "stream",
     "text": [
      "Optimization terminated successfully.\n",
      "         Current function value: 0.218342\n",
      "         Iterations 9\n",
      "                           Logit Regression Results                           \n",
      "==============================================================================\n",
      "Dep. Variable:              Churn_Yes   No. Observations:                10000\n",
      "Model:                          Logit   Df Residuals:                     9967\n",
      "Method:                           MLE   Df Model:                           32\n",
      "Date:                Mon, 25 Apr 2022   Pseudo R-squ.:                  0.6224\n",
      "Time:                        04:27:04   Log-Likelihood:                -2183.4\n",
      "converged:                       True   LL-Null:                       -5782.2\n",
      "Covariance Type:            nonrobust   LLR p-value:                     0.000\n",
      "===============================================================================================\n",
      "                                  coef    std err          z      P>|z|      [0.025      0.975]\n",
      "-----------------------------------------------------------------------------------------------\n",
      "Children                       -0.0054      0.137     -0.040      0.968      -0.273       0.262\n",
      "Age                             0.0029      0.015      0.196      0.845      -0.026       0.031\n",
      "Income                       4.699e-07   1.37e-06      0.343      0.731   -2.21e-06    3.15e-06\n",
      "Outage_sec_perweek             -0.0021      0.013     -0.164      0.870      -0.028       0.023\n",
      "Email                          -0.0083      0.013     -0.654      0.513      -0.033       0.017\n",
      "Contacts                        0.0608      0.039      1.567      0.117      -0.015       0.137\n",
      "Yearly_equip_failure           -0.0320      0.061     -0.527      0.598      -0.151       0.087\n",
      "Tenure                         -0.1705      0.361     -0.472      0.637      -0.879       0.538\n",
      "MonthlyCharge                   0.0386      0.014      2.803      0.005       0.012       0.066\n",
      "Bandwidth_GB_Year               0.0007      0.004      0.151      0.880      -0.008       0.009\n",
      "Area_Suburban                  -0.0495      0.095     -0.520      0.603      -0.236       0.137\n",
      "Area_Urban                      0.0542      0.094      0.576      0.564      -0.130       0.239\n",
      "Marital_Not_Married            -0.0140      0.098     -0.143      0.886      -0.206       0.178\n",
      "Gender_Male                     0.2301      0.287      0.802      0.423      -0.333       0.793\n",
      "Gender_Nonbinary               -0.0672      0.281     -0.239      0.811      -0.618       0.483\n",
      "Techie_Yes                      1.1038      0.102     10.794      0.000       0.903       1.304\n",
      "Contract_One year              -3.3993      0.128    -26.522      0.000      -3.650      -3.148\n",
      "Contract_Two Year              -3.4861      0.126    -27.744      0.000      -3.732      -3.240\n",
      "Port_modem_Yes                  0.1347      0.077      1.747      0.081      -0.016       0.286\n",
      "Tablet_Yes                     -0.0532      0.084     -0.632      0.527      -0.218       0.112\n",
      "InternetService_Fiber Optic    -1.8778      2.088     -0.899      0.368      -5.970       2.214\n",
      "InternetService_None           -0.6852      1.665     -0.412      0.681      -3.948       2.577\n",
      "Phone_Yes                      -0.2911      0.132     -2.206      0.027      -0.550      -0.032\n",
      "Multiple_Yes                    0.3618      0.201      1.802      0.071      -0.032       0.755\n",
      "OnlineSecurity_Yes             -0.2926      0.311     -0.942      0.346      -0.901       0.316\n",
      "OnlineBackup_Yes               -0.1093      0.180     -0.607      0.544      -0.462       0.243\n",
      "DeviceProtection_Yes           -0.1078      0.233     -0.463      0.643      -0.564       0.349\n",
      "TechSupport_Yes                -0.2096      0.173     -1.214      0.225      -0.548       0.129\n",
      "StreamingTV_Yes                 1.1228      0.508      2.211      0.027       0.128       2.118\n",
      "StreamingMovies_Yes             1.2959      0.362      3.582      0.000       0.587       2.005\n",
      "PaperlessBilling_Yes            0.1666      0.078      2.125      0.034       0.013       0.320\n",
      "PaymentMethod_Check             0.3746      0.078      4.792      0.000       0.221       0.528\n",
      "intercept                      -5.2106      1.466     -3.555      0.000      -8.083      -2.338\n",
      "===============================================================================================\n"
     ]
    }
   ],
   "source": [
    "# initial logit model with all the predictor varialbes\n",
    "\n",
    "logit_model_all = sm.Logit(prep_df['Churn_Yes'], \n",
    "prep_df[['Children', 'Age', 'Income', 'Outage_sec_perweek',\n",
    "       'Email', 'Contacts', 'Yearly_equip_failure', 'Tenure', 'MonthlyCharge',\n",
    "       'Bandwidth_GB_Year', 'Area_Suburban', 'Area_Urban',\n",
    "       'Marital_Not_Married', 'Gender_Male', 'Gender_Nonbinary', 'Techie_Yes',\n",
    "       'Contract_One year', 'Contract_Two Year', 'Port_modem_Yes',\n",
    "       'Tablet_Yes', 'InternetService_Fiber Optic', 'InternetService_None',\n",
    "       'Phone_Yes', 'Multiple_Yes', 'OnlineSecurity_Yes', 'OnlineBackup_Yes',\n",
    "       'DeviceProtection_Yes', 'TechSupport_Yes', 'StreamingTV_Yes',\n",
    "       'StreamingMovies_Yes', 'PaperlessBilling_Yes', 'PaymentMethod_Check',\n",
    "       'intercept']]).fit()\n",
    "print(logit_model_all.summary())"
   ]
  },
  {
   "cell_type": "code",
   "execution_count": 40,
   "metadata": {},
   "outputs": [
    {
     "name": "stdout",
     "output_type": "stream",
     "text": [
      "Top Absolute Correlations\n",
      "Tenure                       Bandwidth_GB_Year      0.99150\n",
      "MonthlyCharge                StreamingMovies_Yes    0.60811\n",
      "Area_Suburban                Area_Urban             0.50071\n",
      "Tenure                       Churn_Yes              0.48548\n",
      "MonthlyCharge                StreamingTV_Yes        0.48231\n",
      "InternetService_Fiber Optic  InternetService_None   0.46175\n",
      "Bandwidth_GB_Year            Churn_Yes              0.44167\n",
      "MonthlyCharge                Multiple_Yes           0.38598\n",
      "                             Churn_Yes              0.37294\n",
      "Contract_One year            Contract_Two Year      0.29324\n",
      "dtype: float64\n"
     ]
    }
   ],
   "source": [
    "# define the correlation between variables to see which ones have the most\n",
    "# multicollinearity\n",
    "\n",
    "def get_redundant_pairs(prep_df):\n",
    "    pairs_drop = set()\n",
    "    cols = prep_df.columns\n",
    "    for i in range(0, prep_df.shape[1]):\n",
    "        for j in range(0, i+1):\n",
    "            pairs_drop.add((cols[i], cols[j]))\n",
    "    return pairs_drop\n",
    "\n",
    "def get_top_abs_correlations(prep_df, n=5):\n",
    "    au_corr = prep_df.corr().abs().unstack()\n",
    "    labels_to_drop = get_redundant_pairs(prep_df)\n",
    "    au_corr = au_corr.drop(labels=labels_to_drop).sort_values(ascending=False)\n",
    "    return au_corr[0:n]\n",
    "\n",
    "print(\"Top Absolute Correlations\")\n",
    "print(get_top_abs_correlations(prep_df, 10))\n"
   ]
  },
  {
   "cell_type": "code",
   "execution_count": 41,
   "metadata": {},
   "outputs": [
    {
     "name": "stdout",
     "output_type": "stream",
     "text": [
      "Optimization terminated successfully.\n",
      "         Current function value: 0.223650\n",
      "         Iterations 9\n",
      "                           Logit Regression Results                           \n",
      "==============================================================================\n",
      "Dep. Variable:              Churn_Yes   No. Observations:                10000\n",
      "Model:                          Logit   Df Residuals:                     9985\n",
      "Method:                           MLE   Df Model:                           14\n",
      "Date:                Mon, 25 Apr 2022   Pseudo R-squ.:                  0.6132\n",
      "Time:                        04:27:04   Log-Likelihood:                -2236.5\n",
      "converged:                       True   LL-Null:                       -5782.2\n",
      "Covariance Type:            nonrobust   LLR p-value:                     0.000\n",
      "===============================================================================================\n",
      "                                  coef    std err          z      P>|z|      [0.025      0.975]\n",
      "-----------------------------------------------------------------------------------------------\n",
      "Tenure                         -0.1143      0.003    -38.973      0.000      -0.120      -0.109\n",
      "MonthlyCharge                   0.0572      0.004     13.786      0.000       0.049       0.065\n",
      "Techie_Yes                      1.0491      0.101     10.414      0.000       0.852       1.247\n",
      "Contract_One year              -3.3149      0.127    -26.187      0.000      -3.563      -3.067\n",
      "Contract_Two Year              -3.3693      0.123    -27.310      0.000      -3.611      -3.128\n",
      "InternetService_Fiber Optic    -2.2342      0.132    -16.948      0.000      -2.493      -1.976\n",
      "Multiple_Yes                   -0.2310      0.152     -1.516      0.130      -0.530       0.068\n",
      "OnlineSecurity_Yes             -0.2713      0.080     -3.401      0.001      -0.428      -0.115\n",
      "OnlineBackup_Yes               -0.5059      0.117     -4.306      0.000      -0.736      -0.276\n",
      "DeviceProtection_Yes           -0.2875      0.092     -3.131      0.002      -0.468      -0.108\n",
      "TechSupport_Yes                -0.4625      0.094     -4.936      0.000      -0.646      -0.279\n",
      "StreamingTV_Yes                 0.3810      0.188      2.023      0.043       0.012       0.750\n",
      "StreamingMovies_Yes             0.3312      0.224      1.479      0.139      -0.108       0.770\n",
      "PaperlessBilling_Yes            0.1559      0.077      2.019      0.044       0.005       0.307\n",
      "intercept                      -6.4087      0.345    -18.594      0.000      -7.084      -5.733\n",
      "===============================================================================================\n"
     ]
    }
   ],
   "source": [
    "# reduced logit model\n",
    "\n",
    "logit_model2 = sm.Logit(prep_df['Churn_Yes'], \n",
    "prep_df[['Tenure', 'MonthlyCharge', 'Techie_Yes','Contract_One year', \n",
    "       'Contract_Two Year', 'InternetService_Fiber Optic', 'Multiple_Yes', \n",
    "       'OnlineSecurity_Yes', 'OnlineBackup_Yes','DeviceProtection_Yes', \n",
    "       'TechSupport_Yes', 'StreamingTV_Yes', 'StreamingMovies_Yes', \n",
    "       'PaperlessBilling_Yes', 'intercept']]).fit()\n",
    "print(logit_model2.summary())"
   ]
  },
  {
   "cell_type": "code",
   "execution_count": 42,
   "metadata": {},
   "outputs": [
    {
     "data": {
      "image/png": "[encoded data removed]",
      "text/plain": [
       "<Figure size 720x720 with 2 Axes>"
      ]
     },
     "metadata": {
      "needs_background": "light"
     },
     "output_type": "display_data"
    }
   ],
   "source": [
    "# seaborn heatmap can help explain the correlation\n",
    "heatmap_churn = df[['Tenure', 'MonthlyCharge', 'Techie_Yes','Contract_One year', \n",
    "       'Contract_Two Year', 'InternetService_Fiber Optic', 'Multiple_Yes', \n",
    "       'OnlineSecurity_Yes', 'OnlineBackup_Yes','DeviceProtection_Yes', \n",
    "       'TechSupport_Yes', 'StreamingTV_Yes', 'StreamingMovies_Yes', \n",
    "       'PaperlessBilling_Yes', 'Churn_Yes']]\n",
    "fig, ax = plt.subplots(figsize=(10,10))\n",
    "sns.heatmap(heatmap_churn.corr().iloc[:], annot=False, linewidths=.5, ax=ax)\n",
    "plt.show()"
   ]
  },
  {
   "cell_type": "code",
   "execution_count": 43,
   "metadata": {},
   "outputs": [],
   "source": [
    "# preparing for the confusion matrix, importing the data\n",
    "# from the prepared dataset\n",
    "conf_df = pd.read_csv('churn_prepared_step5_d208_pt2.csv')\n",
    "X = conf_df.iloc[:, 1:-1].values\n",
    "y = conf_df.iloc[:, -1].values"
   ]
  },
  {
   "cell_type": "code",
   "execution_count": 44,
   "metadata": {},
   "outputs": [],
   "source": [
    "# for the confusion matrix, need to create a Training and Test\n",
    "# data set\n",
    "from sklearn.model_selection import train_test_split\n",
    "X_train, X_test, y_train, y_test = train_test_split(X, y, \n",
    "test_size = 0.2, random_state = 0)"
   ]
  },
  {
   "cell_type": "code",
   "execution_count": 45,
   "metadata": {},
   "outputs": [
    {
     "data": {
      "text/plain": [
       "LogisticRegression(random_state=0)"
      ]
     },
     "execution_count": 45,
     "metadata": {},
     "output_type": "execute_result"
    }
   ],
   "source": [
    "# now we train the logistic regression on the training set\n",
    "from sklearn.linear_model import  LogisticRegression\n",
    "log_classify = LogisticRegression(random_state= 0)\n",
    "log_classify.fit(X_train, y_train)"
   ]
  },
  {
   "cell_type": "code",
   "execution_count": 46,
   "metadata": {},
   "outputs": [],
   "source": [
    "# since we have trained the regression, we can try\n",
    "# to predict the Test results\n",
    "y_pred = log_classify.predict(X_test)"
   ]
  },
  {
   "cell_type": "code",
   "execution_count": 47,
   "metadata": {},
   "outputs": [
    {
     "name": "stdout",
     "output_type": "stream",
     "text": [
      "[[1335  151]\n",
      " [ 183  331]]\n"
     ]
    }
   ],
   "source": [
    "# we can now make the confusion matrix using sklearn's\n",
    "# confusion matrix protocol\n",
    "from sklearn.metrics import confusion_matrix\n",
    "confusion_visualization = confusion_matrix(y_test, y_pred)\n",
    "print(confusion_visualization)"
   ]
  },
  {
   "cell_type": "code",
   "execution_count": 48,
   "metadata": {},
   "outputs": [
    {
     "name": "stdout",
     "output_type": "stream",
     "text": [
      "Accuracy: 82.96%\n",
      "Standard Deviation: 0.85%\n"
     ]
    }
   ],
   "source": [
    "# check the accuracy using sklearn's cross val score\n",
    "# which is a k-fold cross validation\n",
    "from sklearn.model_selection import cross_val_score\n",
    "accuracy = cross_val_score(estimator=log_classify, X = X_train, \n",
    "y = y_train, cv= 10)\n",
    "print('Accuracy: {:.2f}%'.format(accuracy.mean()*100))\n",
    "print('Standard Deviation: {:.2f}%'.format(accuracy.std()*100))"
   ]
  },
  {
   "cell_type": "code",
   "execution_count": 49,
   "metadata": {},
   "outputs": [
    {
     "data": {
      "text/plain": [
       "<AxesSubplot:>"
      ]
     },
     "execution_count": 49,
     "metadata": {},
     "output_type": "execute_result"
    },
    {
     "data": {
      "image/png": "[encoded data removed]",
      "text/plain": [
       "<Figure size 432x288 with 2 Axes>"
      ]
     },
     "metadata": {
      "needs_background": "light"
     },
     "output_type": "display_data"
    }
   ],
   "source": [
    "y_pred_test = log_classify.predict(X_test)\n",
    "confusion_visualization2 = confusion_matrix(y_test, y_pred_test)\n",
    "sns.heatmap(confusion_visualization2, annot=True)"
   ]
  },
  {
   "cell_type": "code",
   "execution_count": 50,
   "metadata": {},
   "outputs": [
    {
     "name": "stdout",
     "output_type": "stream",
     "text": [
      "              precision    recall  f1-score   support\n",
      "\n",
      "           0       0.88      0.90      0.89      1486\n",
      "           1       0.69      0.64      0.66       514\n",
      "\n",
      "    accuracy                           0.83      2000\n",
      "   macro avg       0.78      0.77      0.78      2000\n",
      "weighted avg       0.83      0.83      0.83      2000\n",
      "\n"
     ]
    }
   ],
   "source": [
    "# this is a classification report from sklearn\n",
    "from sklearn.metrics import classification_report\n",
    "print (classification_report(y_test, y_pred_test))"
   ]
  },
  {
   "cell_type": "code",
   "execution_count": 51,
   "metadata": {},
   "outputs": [
    {
     "name": "stdout",
     "output_type": "stream",
     "text": [
      "Top Absolute Correlations\n",
      "MonthlyCharge        StreamingMovies_Yes           0.60811\n",
      "Tenure               Churn_Yes                     0.48548\n",
      "MonthlyCharge        StreamingTV_Yes               0.48231\n",
      "                     Multiple_Yes                  0.38598\n",
      "                     Churn_Yes                     0.37294\n",
      "Contract_One year    Contract_Two Year             0.29324\n",
      "StreamingMovies_Yes  Churn_Yes                     0.28926\n",
      "MonthlyCharge        InternetService_Fiber Optic   0.28660\n",
      "                     OnlineBackup_Yes              0.25944\n",
      "StreamingTV_Yes      Churn_Yes                     0.23015\n",
      "dtype: float64\n"
     ]
    }
   ],
   "source": [
    "# there are still variables with high p-values and high correlations\n",
    "# we can run another correlation test to see which variables are \n",
    "# multicollinear\n",
    "\n",
    "def get_redundant_pairs(heatmap_churn):\n",
    "    pairs_drop = set()\n",
    "    cols = heatmap_churn.columns\n",
    "    for i in range(0, heatmap_churn.shape[1]):\n",
    "        for j in range(0, i+1):\n",
    "            pairs_drop.add((cols[i], cols[j]))\n",
    "    return pairs_drop\n",
    "\n",
    "def get_top_abs_correlations(heatmap_churn, n=5):\n",
    "    au_corr = heatmap_churn.corr().abs().unstack()\n",
    "    labels_to_drop = get_redundant_pairs(heatmap_churn)\n",
    "    au_corr = au_corr.drop(labels=labels_to_drop).sort_values(ascending=False)\n",
    "    return au_corr[0:n]\n",
    "\n",
    "print(\"Top Absolute Correlations\")\n",
    "print(get_top_abs_correlations(heatmap_churn, 10))\n"
   ]
  },
  {
   "cell_type": "code",
   "execution_count": 52,
   "metadata": {},
   "outputs": [
    {
     "name": "stdout",
     "output_type": "stream",
     "text": [
      "/usr/local/bin/python3\n",
      "3.10.4 (v3.10.4:9d38120e33, Mar 23 2022, 17:29:05) [Clang 13.0.0 (clang-1300.0.29.30)]\n",
      "sys.version_info(major=3, minor=10, micro=4, releaselevel='final', serial=0)\n"
     ]
    }
   ],
   "source": [
    "import sys\n",
    "print(sys.executable)\n",
    "print(sys.version)\n",
    "print(sys.version_info)"
   ]
  }
 ],
 "metadata": {
  "interpreter": {
   "hash": "aee8b7b246df8f9039afb4144a1f6fd8d2ca17a180786b69acc140d282b71a49"
  },
  "kernelspec": {
   "display_name": "Python 3.10.4 64-bit",
   "language": "python",
   "name": "python3"
  },
  "language_info": {
   "codemirror_mode": {
    "name": "ipython",
    "version": 3
   },
   "file_extension": ".py",
   "mimetype": "text/x-python",
   "name": "python",
   "nbconvert_exporter": "python",
   "pygments_lexer": "ipython3",
   "version": "3.10.4"
  },
  "orig_nbformat": 4
 },
 "nbformat": 4,
 "nbformat_minor": 2
}
